{
 "cells": [
  {
   "cell_type": "code",
   "execution_count": 1,
   "metadata": {
    "collapsed": true
   },
   "outputs": [],
   "source": [
    "import pandas as pd"
   ]
  },
  {
   "cell_type": "markdown",
   "metadata": {},
   "source": [
    "Source: http://dashboard.healthit.gov/datadashboard/documentation/ehr-products-mu-attestation-data-documentation.php . These are the 2015 data only. See this page for variable names and explanations.\n",
    "\n",
    "Notably, each row in this csv corresponds to not a single medical center, but an attestation to the use of a particular EHR product. Therefore, as part of each medical center's meaningful use attestation to the CMS (which has a single unique `Attestation_ID`), they may attest to the use of multiple certified products within that single attestation."
   ]
  },
  {
   "cell_type": "code",
   "execution_count": 51,
   "metadata": {
    "collapsed": false
   },
   "outputs": [],
   "source": [
    "full_df = pd.read_csv('MU_REPORT_2015.csv', encoding='Latin1') # note the encoding. it wouldn't read with utf-8"
   ]
  },
  {
   "cell_type": "markdown",
   "metadata": {},
   "source": [
    "### Tasks to convert to sql/clean data\n",
    "\n",
    "- [*Done*] lowercase+snake_case all column labels (to make adding to db neater)\n",
    "- [*Done*] Fix `NaN`s in `dtype('O')` columns\n",
    "- Re-export as cleaned csv, or [*Done*] import into db directly from pd"
   ]
  },
  {
   "cell_type": "code",
   "execution_count": 52,
   "metadata": {
    "collapsed": true
   },
   "outputs": [],
   "source": [
    "full_df.columns = [col.lower().replace('.', '_') for col in full_df.columns]"
   ]
  },
  {
   "cell_type": "code",
   "execution_count": 53,
   "metadata": {
    "collapsed": false
   },
   "outputs": [
    {
     "data": {
      "text/plain": [
       "18581"
      ]
     },
     "execution_count": 53,
     "metadata": {},
     "output_type": "execute_result"
    }
   ],
   "source": [
    "full_df[full_df['specialty'].isnull()].shape[0]"
   ]
  },
  {
   "cell_type": "markdown",
   "metadata": {},
   "source": [
    "Column 'Specialty' includes `NaN`s as well as \"UNKNOWN\". It's probably fair game to cast empty cells (read as `NaN`) as unknown, so we can treat this as a column of exclusively object dtype, not mixed."
   ]
  },
  {
   "cell_type": "code",
   "execution_count": 56,
   "metadata": {
    "collapsed": false
   },
   "outputs": [],
   "source": [
    "full_df.loc[full_df['specialty'].isnull(), 'specialty'] = 'UNKNOWN'"
   ]
  },
  {
   "cell_type": "code",
   "execution_count": 57,
   "metadata": {
    "collapsed": false
   },
   "outputs": [
    {
     "data": {
      "text/plain": [
       "0"
      ]
     },
     "execution_count": 57,
     "metadata": {},
     "output_type": "execute_result"
    }
   ],
   "source": [
    "full_df[full_df['specialty'].isnull()].shape[0]"
   ]
  },
  {
   "cell_type": "code",
   "execution_count": 75,
   "metadata": {
    "collapsed": false
   },
   "outputs": [],
   "source": [
    "from sqlalchemy import create_engine\n",
    "from getpass import getuser\n",
    "\n",
    "engine = create_engine('postgres://{}@localhost/ehr_mu'.format(getuser()))  # note: need pip-installed psycopg2"
   ]
  },
  {
   "cell_type": "code",
   "execution_count": 76,
   "metadata": {
    "collapsed": true
   },
   "outputs": [],
   "source": [
    "full_df.to_sql('attest_2015', engine)"
   ]
  },
  {
   "cell_type": "code",
   "execution_count": 54,
   "metadata": {
    "collapsed": false
   },
   "outputs": [
    {
     "data": {
      "text/plain": [
       "ehr_certification_number             object\n",
       "vendor_name                          object\n",
       "ehr_product_chp_id                   object\n",
       "ehr_product_name                     object\n",
       "ehr_product_version                  object\n",
       "product_classification               object\n",
       "product_setting                      object\n",
       "product_certification_edition_yr      int64\n",
       "attestation_month                     int64\n",
       "attestation_year                      int64\n",
       "business_state_territory             object\n",
       "provider_type                        object\n",
       "specialty                            object\n",
       "program_year                          int64\n",
       "payment_year                        float64\n",
       "provider_stage_number                object\n",
       "program_type                         object\n",
       "stage_2_scheduled_2014              float64\n",
       "mu_definition_2014                  float64\n",
       "attestation_id                        int64\n",
       "npi                                   int64\n",
       "ccn                                 float64\n",
       "dtype: object"
      ]
     },
     "execution_count": 54,
     "metadata": {},
     "output_type": "execute_result"
    }
   ],
   "source": [
    "full_df.dtypes"
   ]
  },
  {
   "cell_type": "code",
   "execution_count": 60,
   "metadata": {
    "collapsed": false
   },
   "outputs": [
    {
     "name": "stdout",
     "output_type": "stream",
     "text": [
      "ehr_certification_number: 15\n",
      "vendor_name: 59\n",
      "ehr_product_chp_id: 10\n",
      "ehr_product_name: 223\n",
      "ehr_product_version: 45\n",
      "product_classification: 12\n",
      "product_setting: 10\n",
      "product_certification_edition_yr: int64\n",
      "attestation_month: int64\n",
      "attestation_year: int64\n",
      "business_state_territory: 30\n",
      "provider_type: 8\n",
      "specialty: 36\n",
      "program_year: int64\n",
      "payment_year: float64\n",
      "provider_stage_number: 7\n",
      "program_type: 17\n",
      "stage_2_scheduled_2014: float64\n",
      "mu_definition_2014: float64\n",
      "attestation_id: int64\n",
      "npi: int64\n",
      "ccn: float64\n"
     ]
    }
   ],
   "source": [
    "for col in full_df.columns:\n",
    "    to_print = str(full_df[col].dtype) if full_df[col].dtype != 'O' else str(max(full_df[col].apply(len)))\n",
    "    print(col + ': ' + to_print)"
   ]
  },
  {
   "cell_type": "code",
   "execution_count": 67,
   "metadata": {
    "collapsed": false
   },
   "outputs": [
    {
     "data": {
      "text/plain": [
       "2    171358\n",
       "1    107324\n",
       "5     71382\n",
       "3     69840\n",
       "4      1422\n",
       "6       990\n",
       "7       117\n",
       "8        96\n",
       "Name: attestation_month, dtype: int64"
      ]
     },
     "execution_count": 67,
     "metadata": {},
     "output_type": "execute_result"
    }
   ],
   "source": [
    "full_df['attestation_month'].value_counts()"
   ]
  },
  {
   "cell_type": "code",
   "execution_count": 72,
   "metadata": {
    "collapsed": false
   },
   "outputs": [
    {
     "data": {
      "text/plain": [
       "2/2016    171358\n",
       "1/2016    107324\n",
       "5/2016     71382\n",
       "3/2016     69840\n",
       "4/2016      1422\n",
       "6/2016       990\n",
       "7/2015       111\n",
       "8/2015        96\n",
       "7/2016         6\n",
       "dtype: int64"
      ]
     },
     "execution_count": 72,
     "metadata": {},
     "output_type": "execute_result"
    }
   ],
   "source": [
    "test = full_df['attestation_month'].apply(str) + '/' + full_df['attestation_year'].apply(str)\n",
    "test.value_counts()"
   ]
  },
  {
   "cell_type": "code",
   "execution_count": 63,
   "metadata": {
    "collapsed": false
   },
   "outputs": [
    {
     "data": {
      "text/plain": [
       "1"
      ]
     },
     "execution_count": 63,
     "metadata": {},
     "output_type": "execute_result"
    }
   ],
   "source": [
    "full_df['ehr_product_chp_id'].apply(len).nunique()"
   ]
  },
  {
   "cell_type": "code",
   "execution_count": 73,
   "metadata": {
    "collapsed": false
   },
   "outputs": [
    {
     "data": {
      "text/plain": [
       "EP          403948\n",
       "Hospital     18581\n",
       "Name: provider_type, dtype: int64"
      ]
     },
     "execution_count": 73,
     "metadata": {},
     "output_type": "execute_result"
    }
   ],
   "source": [
    "full_df['provider_type'].value_counts()"
   ]
  },
  {
   "cell_type": "code",
   "execution_count": 3,
   "metadata": {
    "collapsed": false
   },
   "outputs": [
    {
     "data": {
      "text/html": [
       "<div>\n",
       "<table border=\"1\" class=\"dataframe\">\n",
       "  <thead>\n",
       "    <tr style=\"text-align: right;\">\n",
       "      <th></th>\n",
       "      <th>EHR.Certification.Number</th>\n",
       "      <th>Vendor.Name</th>\n",
       "      <th>EHR.Product.CHP.Id</th>\n",
       "      <th>EHR.Product.Name</th>\n",
       "      <th>EHR.Product.Version</th>\n",
       "      <th>Product.Classification</th>\n",
       "      <th>Product.Setting</th>\n",
       "      <th>Product.Certification.Edition.Yr</th>\n",
       "      <th>Attestation.Month</th>\n",
       "      <th>Attestation.Year</th>\n",
       "      <th>...</th>\n",
       "      <th>Specialty</th>\n",
       "      <th>Program.Year</th>\n",
       "      <th>Payment.Year</th>\n",
       "      <th>Provider.Stage.Number</th>\n",
       "      <th>Program.Type</th>\n",
       "      <th>Stage.2.Scheduled.2014</th>\n",
       "      <th>MU.Definition.2014</th>\n",
       "      <th>Attestation_ID</th>\n",
       "      <th>NPI</th>\n",
       "      <th>CCN</th>\n",
       "    </tr>\n",
       "  </thead>\n",
       "  <tbody>\n",
       "    <tr>\n",
       "      <th>0</th>\n",
       "      <td>A014E01NCEULEA5</td>\n",
       "      <td>Epic Systems Corporation</td>\n",
       "      <td>CHP-022044</td>\n",
       "      <td>EpicCare Ambulatory 2014 Certified EHR Suite</td>\n",
       "      <td>Epic 2014 (June 2013 CQMs)</td>\n",
       "      <td>Complete EHR</td>\n",
       "      <td>Ambulatory</td>\n",
       "      <td>2014</td>\n",
       "      <td>2</td>\n",
       "      <td>2016</td>\n",
       "      <td>...</td>\n",
       "      <td>UNKNOWN</td>\n",
       "      <td>2015</td>\n",
       "      <td>2.0</td>\n",
       "      <td>Stage 1</td>\n",
       "      <td>Medicare</td>\n",
       "      <td>0.0</td>\n",
       "      <td>NaN</td>\n",
       "      <td>1</td>\n",
       "      <td>1003000142</td>\n",
       "      <td>NaN</td>\n",
       "    </tr>\n",
       "    <tr>\n",
       "      <th>1</th>\n",
       "      <td>1314E01PHNJKEA5</td>\n",
       "      <td>NextGen Healthcare</td>\n",
       "      <td>CHP-023369</td>\n",
       "      <td>NextGen Ambulatory EHR</td>\n",
       "      <td>5.8.1</td>\n",
       "      <td>Complete EHR</td>\n",
       "      <td>Ambulatory</td>\n",
       "      <td>2014</td>\n",
       "      <td>2</td>\n",
       "      <td>2016</td>\n",
       "      <td>...</td>\n",
       "      <td>UNKNOWN</td>\n",
       "      <td>2015</td>\n",
       "      <td>4.0</td>\n",
       "      <td>Stage 2</td>\n",
       "      <td>Medicare</td>\n",
       "      <td>1.0</td>\n",
       "      <td>NaN</td>\n",
       "      <td>4</td>\n",
       "      <td>1003000522</td>\n",
       "      <td>NaN</td>\n",
       "    </tr>\n",
       "    <tr>\n",
       "      <th>2</th>\n",
       "      <td>1314E01PDRTLEAR</td>\n",
       "      <td>Get Real Health</td>\n",
       "      <td>CHP-019270</td>\n",
       "      <td>InstantPHR</td>\n",
       "      <td>3</td>\n",
       "      <td>Modular EHR</td>\n",
       "      <td>Ambulatory</td>\n",
       "      <td>2014</td>\n",
       "      <td>2</td>\n",
       "      <td>2016</td>\n",
       "      <td>...</td>\n",
       "      <td>UNKNOWN</td>\n",
       "      <td>2015</td>\n",
       "      <td>4.0</td>\n",
       "      <td>Stage 2</td>\n",
       "      <td>Medicare</td>\n",
       "      <td>1.0</td>\n",
       "      <td>NaN</td>\n",
       "      <td>6</td>\n",
       "      <td>1003000530</td>\n",
       "      <td>NaN</td>\n",
       "    </tr>\n",
       "    <tr>\n",
       "      <th>3</th>\n",
       "      <td>1314E01PDRTLEAR</td>\n",
       "      <td>Allscripts</td>\n",
       "      <td>CHP-022204</td>\n",
       "      <td>Allscripts TouchWorks EHR</td>\n",
       "      <td>11.4.1</td>\n",
       "      <td>Modular EHR</td>\n",
       "      <td>Ambulatory</td>\n",
       "      <td>2014</td>\n",
       "      <td>2</td>\n",
       "      <td>2016</td>\n",
       "      <td>...</td>\n",
       "      <td>UNKNOWN</td>\n",
       "      <td>2015</td>\n",
       "      <td>4.0</td>\n",
       "      <td>Stage 2</td>\n",
       "      <td>Medicare</td>\n",
       "      <td>1.0</td>\n",
       "      <td>NaN</td>\n",
       "      <td>6</td>\n",
       "      <td>1003000530</td>\n",
       "      <td>NaN</td>\n",
       "    </tr>\n",
       "    <tr>\n",
       "      <th>4</th>\n",
       "      <td>1314E01PHNJKEA5</td>\n",
       "      <td>NextGen Healthcare</td>\n",
       "      <td>CHP-023369</td>\n",
       "      <td>NextGen Ambulatory EHR</td>\n",
       "      <td>5.8.1</td>\n",
       "      <td>Complete EHR</td>\n",
       "      <td>Ambulatory</td>\n",
       "      <td>2014</td>\n",
       "      <td>2</td>\n",
       "      <td>2016</td>\n",
       "      <td>...</td>\n",
       "      <td>UNKNOWN</td>\n",
       "      <td>2015</td>\n",
       "      <td>NaN</td>\n",
       "      <td>Stage 1</td>\n",
       "      <td>Medicare</td>\n",
       "      <td>0.0</td>\n",
       "      <td>NaN</td>\n",
       "      <td>10</td>\n",
       "      <td>1003000597</td>\n",
       "      <td>NaN</td>\n",
       "    </tr>\n",
       "  </tbody>\n",
       "</table>\n",
       "<p>5 rows × 22 columns</p>\n",
       "</div>"
      ],
      "text/plain": [
       "  EHR.Certification.Number               Vendor.Name EHR.Product.CHP.Id  \\\n",
       "0          A014E01NCEULEA5  Epic Systems Corporation         CHP-022044   \n",
       "1          1314E01PHNJKEA5        NextGen Healthcare         CHP-023369   \n",
       "2          1314E01PDRTLEAR           Get Real Health         CHP-019270   \n",
       "3          1314E01PDRTLEAR                Allscripts         CHP-022204   \n",
       "4          1314E01PHNJKEA5        NextGen Healthcare         CHP-023369   \n",
       "\n",
       "                               EHR.Product.Name         EHR.Product.Version  \\\n",
       "0  EpicCare Ambulatory 2014 Certified EHR Suite  Epic 2014 (June 2013 CQMs)   \n",
       "1                        NextGen Ambulatory EHR                       5.8.1   \n",
       "2                                    InstantPHR                           3   \n",
       "3                     Allscripts TouchWorks EHR                      11.4.1   \n",
       "4                        NextGen Ambulatory EHR                       5.8.1   \n",
       "\n",
       "  Product.Classification Product.Setting  Product.Certification.Edition.Yr  \\\n",
       "0           Complete EHR      Ambulatory                              2014   \n",
       "1           Complete EHR      Ambulatory                              2014   \n",
       "2            Modular EHR      Ambulatory                              2014   \n",
       "3            Modular EHR      Ambulatory                              2014   \n",
       "4           Complete EHR      Ambulatory                              2014   \n",
       "\n",
       "   Attestation.Month  Attestation.Year ...  Specialty Program.Year  \\\n",
       "0                  2              2016 ...    UNKNOWN         2015   \n",
       "1                  2              2016 ...    UNKNOWN         2015   \n",
       "2                  2              2016 ...    UNKNOWN         2015   \n",
       "3                  2              2016 ...    UNKNOWN         2015   \n",
       "4                  2              2016 ...    UNKNOWN         2015   \n",
       "\n",
       "  Payment.Year  Provider.Stage.Number  Program.Type Stage.2.Scheduled.2014  \\\n",
       "0          2.0                Stage 1      Medicare                    0.0   \n",
       "1          4.0                Stage 2      Medicare                    1.0   \n",
       "2          4.0                Stage 2      Medicare                    1.0   \n",
       "3          4.0                Stage 2      Medicare                    1.0   \n",
       "4          NaN                Stage 1      Medicare                    0.0   \n",
       "\n",
       "  MU.Definition.2014  Attestation_ID         NPI  CCN  \n",
       "0                NaN               1  1003000142  NaN  \n",
       "1                NaN               4  1003000522  NaN  \n",
       "2                NaN               6  1003000530  NaN  \n",
       "3                NaN               6  1003000530  NaN  \n",
       "4                NaN              10  1003000597  NaN  \n",
       "\n",
       "[5 rows x 22 columns]"
      ]
     },
     "execution_count": 3,
     "metadata": {},
     "output_type": "execute_result"
    }
   ],
   "source": [
    "full_df.head()"
   ]
  },
  {
   "cell_type": "code",
   "execution_count": 3,
   "metadata": {
    "collapsed": false
   },
   "outputs": [
    {
     "data": {
      "text/plain": [
       "Index(['EHR.Certification.Number', 'Vendor.Name', 'EHR.Product.CHP.Id',\n",
       "       'EHR.Product.Name', 'EHR.Product.Version', 'Product.Classification',\n",
       "       'Product.Setting', 'Product.Certification.Edition.Yr',\n",
       "       'Attestation.Month', 'Attestation.Year', 'Business.State.Territory',\n",
       "       'Provider.Type', 'Specialty', 'Program.Year', 'Payment.Year',\n",
       "       'Provider.Stage.Number', 'Program.Type', 'Stage.2.Scheduled.2014',\n",
       "       'MU.Definition.2014', 'Attestation_ID', 'NPI', 'CCN'],\n",
       "      dtype='object')"
      ]
     },
     "execution_count": 3,
     "metadata": {},
     "output_type": "execute_result"
    }
   ],
   "source": [
    "full_df.columns"
   ]
  },
  {
   "cell_type": "code",
   "execution_count": 4,
   "metadata": {
    "collapsed": false
   },
   "outputs": [
    {
     "name": "stdout",
     "output_type": "stream",
     "text": [
      "total unique vendors: 477\n",
      "count vendors with single attestation: 47\n"
     ]
    },
    {
     "data": {
      "text/plain": [
       "ALERT Life Sciences Computing SA                              1\n",
       "Amrita Ventures LLC                                           1\n",
       "LCD Solutions Inc/Clicktate                                   1\n",
       "OSEHRA                                                        1\n",
       "Meta Pharmacy Systems Inc dba Meta Healthcare IT Solutions    1\n",
       "Brigham and Womens Hospital                                   1\n",
       "Nth Technologies Inc                                          1\n",
       "Panacea Medical MBA                                           1\n",
       "Medicat LLC                                                   1\n",
       "Sajix Inc                                                     1\n",
       "Hill-Rom Holdings Inc                                         1\n",
       "Paragon Billing LLC                                           1\n",
       "Metasolutions Inc                                             1\n",
       "Twin Sails Technology Group Inc                               1\n",
       "Draeger Medical Systems Inc                                   1\n",
       "Nuance Communications Inc                                     1\n",
       "eCell Healthcare Inc                                          1\n",
       "American Medical Solutions Inc                                1\n",
       "Procentive                                                    1\n",
       "Braintree Health                                              1\n",
       "ASP.MD Inc                                                    1\n",
       "Omnicell Inc                                                  1\n",
       "PBO                                                           1\n",
       "ZeOmega Inc                                                   1\n",
       "Innovative Medical Practice Solutions LLC                     1\n",
       "Strateq Health Inc.                                           1\n",
       "Credible Behavioral Health Inc                                1\n",
       "PCE Systems                                                   1\n",
       "True Process Inc                                              1\n",
       "eHealthObjects Inc                                            1\n",
       "Venus Medical Systems LLC                                     1\n",
       "Forward Advantage Inc                                         1\n",
       "HEALTHEC                                                      1\n",
       "Novobi                                                        1\n",
       "OhMD LLC                                                      1\n",
       "VisionWeb                                                     1\n",
       "Professional Economics Bureau of America Inc                  1\n",
       "Surgical Information Systems                                  1\n",
       "NewYork-Presbyterian Hospital                                 1\n",
       "EDIMS LLC                                                     1\n",
       "Psyche Systems Corporation                                    1\n",
       "NavisHealth Solutions Inc                                     1\n",
       "Copley Memorial Hospital Inc                                  1\n",
       "Comparion Medical Analytics                                   1\n",
       "EBSCO Publishing                                              1\n",
       "Mana Health                                                   1\n",
       "OA Systems Inc                                                1\n",
       "Name: Vendor.Name, dtype: int64"
      ]
     },
     "execution_count": 4,
     "metadata": {},
     "output_type": "execute_result"
    }
   ],
   "source": [
    "vendor_attestation_counts = full_df['Vendor.Name'].value_counts()\n",
    "single_attestation_vendors = vendor_attestation_counts[vendor_attestation_counts==1]\n",
    "print('total unique vendors: ' + str(len(vendor_attestation_counts)))\n",
    "print('count vendors with single attestation: ' + str(len(single_attestation_vendors)))\n",
    "single_attestation_vendors\n",
    "# vendor_attestation_counts"
   ]
  },
  {
   "cell_type": "code",
   "execution_count": 61,
   "metadata": {
    "collapsed": false
   },
   "outputs": [
    {
     "data": {
      "text/plain": [
       "Complete EHR    225515\n",
       "Modular EHR     197014\n",
       "Name: product_classification, dtype: int64"
      ]
     },
     "execution_count": 61,
     "metadata": {},
     "output_type": "execute_result"
    }
   ],
   "source": [
    "full_df['product_classification'].value_counts(dropna=False)"
   ]
  },
  {
   "cell_type": "markdown",
   "metadata": {},
   "source": [
    "Interesting: not all the single attestation vendors are hospitals doing their own thing. Some are simply small providers?"
   ]
  },
  {
   "cell_type": "code",
   "execution_count": 97,
   "metadata": {
    "collapsed": false
   },
   "outputs": [
    {
     "data": {
      "text/plain": [
       "Epic Systems Corporation    121058\n",
       "Cerner Corporation          104928\n",
       "Allscripts                   28230\n",
       "eClinicalWorks LLC           18931\n",
       "NextGen Healthcare           13705\n",
       "Name: Vendor.Name, dtype: int64"
      ]
     },
     "execution_count": 97,
     "metadata": {},
     "output_type": "execute_result"
    }
   ],
   "source": [
    "vendor_attestation_counts.sort_values(ascending=False).head()"
   ]
  },
  {
   "cell_type": "code",
   "execution_count": 5,
   "metadata": {
    "collapsed": false
   },
   "outputs": [
    {
     "name": "stdout",
     "output_type": "stream",
     "text": [
      "238386    1568543221\n",
      "Name: NPI, dtype: int64\n",
      "238386   NaN\n",
      "Name: CCN, dtype: float64\n"
     ]
    }
   ],
   "source": [
    "print(full_df[full_df['Vendor.Name']==\"ALERT Life Sciences Computing SA\"].NPI)\n",
    "print(full_df[full_df['Vendor.Name']==\"ALERT Life Sciences Computing SA\"].CCN)"
   ]
  },
  {
   "cell_type": "markdown",
   "metadata": {},
   "source": [
    "Let's confirm that having an NPI and having a CCN is mutually exclusive"
   ]
  },
  {
   "cell_type": "code",
   "execution_count": 6,
   "metadata": {
    "collapsed": false
   },
   "outputs": [
    {
     "name": "stdout",
     "output_type": "stream",
     "text": [
      "0\n",
      "18581\n"
     ]
    }
   ],
   "source": [
    "print(len(full_df[full_df.NPI.isnull()]))\n",
    "print(len(full_df[full_df.CCN.notnull()]))"
   ]
  },
  {
   "cell_type": "markdown",
   "metadata": {},
   "source": [
    "Apparently not. Looks like everyone has an NPI, but only facilities that participate in federal health care programs (whatever that means) have a CCN. I'm okay with this, because the database that holds all further information about NPIs, the NPPES (https://npiregistry.cms.hhs.gov/) provides an API! Hooray! This means we're not reliant on the simple state information given in the EHR csv...we can get really specific business addresses for each provider! The JSON returned by the NPPES API even breaks down address for you, so there's no parsing required if the level of granularity I'm interested in is at the city or zip code level."
   ]
  },
  {
   "cell_type": "code",
   "execution_count": 7,
   "metadata": {
    "collapsed": true
   },
   "outputs": [],
   "source": [
    "import requests, json"
   ]
  },
  {
   "cell_type": "code",
   "execution_count": 27,
   "metadata": {
    "collapsed": false
   },
   "outputs": [],
   "source": [
    "test_api_req = requests.get('https://npiregistry.cms.hhs.gov/api/', params={'number':1568543221})\n",
    "test_json = json.loads(test_api_req.text)"
   ]
  },
  {
   "cell_type": "code",
   "execution_count": 28,
   "metadata": {
    "collapsed": false
   },
   "outputs": [
    {
     "data": {
      "text/plain": [
       "'787333233'"
      ]
     },
     "execution_count": 28,
     "metadata": {},
     "output_type": "execute_result"
    }
   ],
   "source": [
    "test_json['results'][0]['addresses'][0]['postal_code']"
   ]
  },
  {
   "cell_type": "markdown",
   "metadata": {},
   "source": [
    "We could use the Google Maps API to find the exact lat/long of this address, but the postal code is really more than enough detail, so let's try another API. The zippopotamus API is nicely open-source (https://github.com/ekotechnology/Zippopotamus-Cloud, bonus points for Python) and rather permissively-licensed under the Open Database License (http://opendatacommons.org/licenses/odbl/1.0/). It's got the quirk of not accepting the +4 part of zip codes, but again, this is far beyond our desired level of granularity. \n",
    "\n",
    "The larger annoyance is the API requiring constructed urls, rather than accepting query parameters. Could this be somewhere I could contribute?"
   ]
  },
  {
   "cell_type": "code",
   "execution_count": 10,
   "metadata": {
    "collapsed": false
   },
   "outputs": [],
   "source": [
    "r = requests.get('https://api.zippopotam.us/us/' + (test_json['results'][0]['addresses'][0]['postal_code'][:5]))\n",
    "test_json2 = json.loads(r.text)"
   ]
  },
  {
   "cell_type": "code",
   "execution_count": 11,
   "metadata": {
    "collapsed": false
   },
   "outputs": [
    {
     "name": "stdout",
     "output_type": "stream",
     "text": [
      "30.3314\n"
     ]
    },
    {
     "data": {
      "text/plain": [
       "{'country': 'United States',\n",
       " 'country abbreviation': 'US',\n",
       " 'places': [{'latitude': '30.3314',\n",
       "   'longitude': '-97.8666',\n",
       "   'place name': 'Austin',\n",
       "   'state': 'Texas',\n",
       "   'state abbreviation': 'TX'}],\n",
       " 'post code': '78733'}"
      ]
     },
     "execution_count": 11,
     "metadata": {},
     "output_type": "execute_result"
    }
   ],
   "source": [
    "print(float(test_json2['places'][0]['latitude']))\n",
    "test_json2"
   ]
  },
  {
   "cell_type": "markdown",
   "metadata": {},
   "source": [
    "The zippopotamus documentation (sparse as it is) seems to assert a single place per zip code (in contrast to the multiple places per postal code case for other countries), so we should be OK using `['places'][0]`."
   ]
  },
  {
   "cell_type": "markdown",
   "metadata": {},
   "source": [
    "Ok. The next task is to add lat and long columns to the df. Note that we can nearly halve the number of requests by not repeating requests for NPIs we've already looked up."
   ]
  },
  {
   "cell_type": "code",
   "execution_count": 72,
   "metadata": {
    "collapsed": false
   },
   "outputs": [
    {
     "data": {
      "text/plain": [
       "0    None\n",
       "1    None\n",
       "2    None\n",
       "3    None\n",
       "4    None\n",
       "dtype: object"
      ]
     },
     "execution_count": 72,
     "metadata": {},
     "output_type": "execute_result"
    }
   ],
   "source": [
    "# NPI_loc_dict = {}\n",
    "def get_lat_long(row):\n",
    "    if row.NPI not in NPI_loc_dict:\n",
    "        NPI_info = requests.get('https://npiregistry.cms.hhs.gov/api/', params={'number':row.NPI}).text\n",
    "        NPI_zip = json.loads(NPI_info)['results'][0]['addresses'][0]['postal_code'][:5]\n",
    "        zip_info = json.loads(requests.get('https://api.zippopotam.us/us/' + NPI_zip).text)['places'][0]\n",
    "    # to test, try printing them\n",
    "#     print(zip_info['latitude'] + ', ' + zip_info['longitude'])\n",
    "\n",
    "        NPI_loc_dict[row.NPI] = {'lat': float(zip_info['latitude']), \n",
    "                                 'long': float(zip_info['longitude'])}\n",
    "#     else:\n",
    "#         print('lookup worked')\n",
    "    \n",
    "\n",
    "test_df = full_df.head()\n",
    "test_df.apply(get_lat_long, axis=1)\n",
    "# just ignore the warning, it seems to be working well enough."
   ]
  },
  {
   "cell_type": "code",
   "execution_count": 66,
   "metadata": {
    "collapsed": false
   },
   "outputs": [
    {
     "data": {
      "text/plain": [
       "{1003000142: {'lat': 41.708, 'long': -83.6434},\n",
       " 1003000522: {'lat': 28.8989, 'long': -81.2473},\n",
       " 1003000530: {'lat': 40.4411, 'long': -75.3507},\n",
       " 1003000597: {'lat': 36.1464, 'long': -95.9526}}"
      ]
     },
     "execution_count": 66,
     "metadata": {},
     "output_type": "execute_result"
    }
   ],
   "source": [
    "NPI_loc_dict"
   ]
  },
  {
   "cell_type": "code",
   "execution_count": 75,
   "metadata": {
    "collapsed": false
   },
   "outputs": [
    {
     "data": {
      "text/html": [
       "<div>\n",
       "<table border=\"1\" class=\"dataframe\">\n",
       "  <thead>\n",
       "    <tr style=\"text-align: right;\">\n",
       "      <th></th>\n",
       "      <th>lat</th>\n",
       "      <th>long</th>\n",
       "    </tr>\n",
       "  </thead>\n",
       "  <tbody>\n",
       "    <tr>\n",
       "      <th>1003000142</th>\n",
       "      <td>41.7080</td>\n",
       "      <td>-83.6434</td>\n",
       "    </tr>\n",
       "    <tr>\n",
       "      <th>1003000522</th>\n",
       "      <td>28.8989</td>\n",
       "      <td>-81.2473</td>\n",
       "    </tr>\n",
       "    <tr>\n",
       "      <th>1003000530</th>\n",
       "      <td>40.4411</td>\n",
       "      <td>-75.3507</td>\n",
       "    </tr>\n",
       "    <tr>\n",
       "      <th>1003000597</th>\n",
       "      <td>36.1464</td>\n",
       "      <td>-95.9526</td>\n",
       "    </tr>\n",
       "  </tbody>\n",
       "</table>\n",
       "</div>"
      ],
      "text/plain": [
       "                lat     long\n",
       "1003000142  41.7080 -83.6434\n",
       "1003000522  28.8989 -81.2473\n",
       "1003000530  40.4411 -75.3507\n",
       "1003000597  36.1464 -95.9526"
      ]
     },
     "execution_count": 75,
     "metadata": {},
     "output_type": "execute_result"
    }
   ],
   "source": [
    "test2 = pd.DataFrame.from_dict(NPI_loc_dict, orient='index')\n",
    "test2"
   ]
  },
  {
   "cell_type": "code",
   "execution_count": 73,
   "metadata": {
    "collapsed": false
   },
   "outputs": [
    {
     "data": {
      "text/html": [
       "<div>\n",
       "<table border=\"1\" class=\"dataframe\">\n",
       "  <thead>\n",
       "    <tr style=\"text-align: right;\">\n",
       "      <th></th>\n",
       "      <th>EHR.Certification.Number</th>\n",
       "      <th>Vendor.Name</th>\n",
       "      <th>EHR.Product.CHP.Id</th>\n",
       "      <th>EHR.Product.Name</th>\n",
       "      <th>EHR.Product.Version</th>\n",
       "      <th>Product.Classification</th>\n",
       "      <th>Product.Setting</th>\n",
       "      <th>Product.Certification.Edition.Yr</th>\n",
       "      <th>Attestation.Month</th>\n",
       "      <th>Attestation.Year</th>\n",
       "      <th>...</th>\n",
       "      <th>Payment.Year</th>\n",
       "      <th>Provider.Stage.Number</th>\n",
       "      <th>Program.Type</th>\n",
       "      <th>Stage.2.Scheduled.2014</th>\n",
       "      <th>MU.Definition.2014</th>\n",
       "      <th>Attestation_ID</th>\n",
       "      <th>NPI</th>\n",
       "      <th>CCN</th>\n",
       "      <th>lat</th>\n",
       "      <th>long</th>\n",
       "    </tr>\n",
       "  </thead>\n",
       "  <tbody>\n",
       "    <tr>\n",
       "      <th>0</th>\n",
       "      <td>A014E01NCEULEA5</td>\n",
       "      <td>Epic Systems Corporation</td>\n",
       "      <td>CHP-022044</td>\n",
       "      <td>EpicCare Ambulatory 2014 Certified EHR Suite</td>\n",
       "      <td>Epic 2014 (June 2013 CQMs)</td>\n",
       "      <td>Complete EHR</td>\n",
       "      <td>Ambulatory</td>\n",
       "      <td>2014</td>\n",
       "      <td>2</td>\n",
       "      <td>2016</td>\n",
       "      <td>...</td>\n",
       "      <td>2.0</td>\n",
       "      <td>Stage 1</td>\n",
       "      <td>Medicare</td>\n",
       "      <td>0.0</td>\n",
       "      <td>NaN</td>\n",
       "      <td>1</td>\n",
       "      <td>1003000142</td>\n",
       "      <td>NaN</td>\n",
       "      <td>41.7080</td>\n",
       "      <td>-83.6434</td>\n",
       "    </tr>\n",
       "    <tr>\n",
       "      <th>1</th>\n",
       "      <td>1314E01PHNJKEA5</td>\n",
       "      <td>NextGen Healthcare</td>\n",
       "      <td>CHP-023369</td>\n",
       "      <td>NextGen Ambulatory EHR</td>\n",
       "      <td>5.8.1</td>\n",
       "      <td>Complete EHR</td>\n",
       "      <td>Ambulatory</td>\n",
       "      <td>2014</td>\n",
       "      <td>2</td>\n",
       "      <td>2016</td>\n",
       "      <td>...</td>\n",
       "      <td>4.0</td>\n",
       "      <td>Stage 2</td>\n",
       "      <td>Medicare</td>\n",
       "      <td>1.0</td>\n",
       "      <td>NaN</td>\n",
       "      <td>4</td>\n",
       "      <td>1003000522</td>\n",
       "      <td>NaN</td>\n",
       "      <td>28.8989</td>\n",
       "      <td>-81.2473</td>\n",
       "    </tr>\n",
       "    <tr>\n",
       "      <th>2</th>\n",
       "      <td>1314E01PDRTLEAR</td>\n",
       "      <td>Get Real Health</td>\n",
       "      <td>CHP-019270</td>\n",
       "      <td>InstantPHR</td>\n",
       "      <td>3</td>\n",
       "      <td>Modular EHR</td>\n",
       "      <td>Ambulatory</td>\n",
       "      <td>2014</td>\n",
       "      <td>2</td>\n",
       "      <td>2016</td>\n",
       "      <td>...</td>\n",
       "      <td>4.0</td>\n",
       "      <td>Stage 2</td>\n",
       "      <td>Medicare</td>\n",
       "      <td>1.0</td>\n",
       "      <td>NaN</td>\n",
       "      <td>6</td>\n",
       "      <td>1003000530</td>\n",
       "      <td>NaN</td>\n",
       "      <td>40.4411</td>\n",
       "      <td>-75.3507</td>\n",
       "    </tr>\n",
       "    <tr>\n",
       "      <th>3</th>\n",
       "      <td>1314E01PDRTLEAR</td>\n",
       "      <td>Allscripts</td>\n",
       "      <td>CHP-022204</td>\n",
       "      <td>Allscripts TouchWorks EHR</td>\n",
       "      <td>11.4.1</td>\n",
       "      <td>Modular EHR</td>\n",
       "      <td>Ambulatory</td>\n",
       "      <td>2014</td>\n",
       "      <td>2</td>\n",
       "      <td>2016</td>\n",
       "      <td>...</td>\n",
       "      <td>4.0</td>\n",
       "      <td>Stage 2</td>\n",
       "      <td>Medicare</td>\n",
       "      <td>1.0</td>\n",
       "      <td>NaN</td>\n",
       "      <td>6</td>\n",
       "      <td>1003000530</td>\n",
       "      <td>NaN</td>\n",
       "      <td>40.4411</td>\n",
       "      <td>-75.3507</td>\n",
       "    </tr>\n",
       "    <tr>\n",
       "      <th>4</th>\n",
       "      <td>1314E01PHNJKEA5</td>\n",
       "      <td>NextGen Healthcare</td>\n",
       "      <td>CHP-023369</td>\n",
       "      <td>NextGen Ambulatory EHR</td>\n",
       "      <td>5.8.1</td>\n",
       "      <td>Complete EHR</td>\n",
       "      <td>Ambulatory</td>\n",
       "      <td>2014</td>\n",
       "      <td>2</td>\n",
       "      <td>2016</td>\n",
       "      <td>...</td>\n",
       "      <td>NaN</td>\n",
       "      <td>Stage 1</td>\n",
       "      <td>Medicare</td>\n",
       "      <td>0.0</td>\n",
       "      <td>NaN</td>\n",
       "      <td>10</td>\n",
       "      <td>1003000597</td>\n",
       "      <td>NaN</td>\n",
       "      <td>36.1464</td>\n",
       "      <td>-95.9526</td>\n",
       "    </tr>\n",
       "  </tbody>\n",
       "</table>\n",
       "<p>5 rows × 24 columns</p>\n",
       "</div>"
      ],
      "text/plain": [
       "  EHR.Certification.Number               Vendor.Name EHR.Product.CHP.Id  \\\n",
       "0          A014E01NCEULEA5  Epic Systems Corporation         CHP-022044   \n",
       "1          1314E01PHNJKEA5        NextGen Healthcare         CHP-023369   \n",
       "2          1314E01PDRTLEAR           Get Real Health         CHP-019270   \n",
       "3          1314E01PDRTLEAR                Allscripts         CHP-022204   \n",
       "4          1314E01PHNJKEA5        NextGen Healthcare         CHP-023369   \n",
       "\n",
       "                               EHR.Product.Name         EHR.Product.Version  \\\n",
       "0  EpicCare Ambulatory 2014 Certified EHR Suite  Epic 2014 (June 2013 CQMs)   \n",
       "1                        NextGen Ambulatory EHR                       5.8.1   \n",
       "2                                    InstantPHR                           3   \n",
       "3                     Allscripts TouchWorks EHR                      11.4.1   \n",
       "4                        NextGen Ambulatory EHR                       5.8.1   \n",
       "\n",
       "  Product.Classification Product.Setting  Product.Certification.Edition.Yr  \\\n",
       "0           Complete EHR      Ambulatory                              2014   \n",
       "1           Complete EHR      Ambulatory                              2014   \n",
       "2            Modular EHR      Ambulatory                              2014   \n",
       "3            Modular EHR      Ambulatory                              2014   \n",
       "4           Complete EHR      Ambulatory                              2014   \n",
       "\n",
       "   Attestation.Month  Attestation.Year   ...    Payment.Year  \\\n",
       "0                  2              2016   ...             2.0   \n",
       "1                  2              2016   ...             4.0   \n",
       "2                  2              2016   ...             4.0   \n",
       "3                  2              2016   ...             4.0   \n",
       "4                  2              2016   ...             NaN   \n",
       "\n",
       "  Provider.Stage.Number Program.Type  Stage.2.Scheduled.2014  \\\n",
       "0               Stage 1     Medicare                     0.0   \n",
       "1               Stage 2     Medicare                     1.0   \n",
       "2               Stage 2     Medicare                     1.0   \n",
       "3               Stage 2     Medicare                     1.0   \n",
       "4               Stage 1     Medicare                     0.0   \n",
       "\n",
       "   MU.Definition.2014 Attestation_ID         NPI  CCN      lat     long  \n",
       "0                 NaN              1  1003000142  NaN  41.7080 -83.6434  \n",
       "1                 NaN              4  1003000522  NaN  28.8989 -81.2473  \n",
       "2                 NaN              6  1003000530  NaN  40.4411 -75.3507  \n",
       "3                 NaN              6  1003000530  NaN  40.4411 -75.3507  \n",
       "4                 NaN             10  1003000597  NaN  36.1464 -95.9526  \n",
       "\n",
       "[5 rows x 24 columns]"
      ]
     },
     "execution_count": 73,
     "metadata": {},
     "output_type": "execute_result"
    }
   ],
   "source": [
    "test_df = pd.merge(test_df,test2, left_on='NPI', right_index=True)  # assume inner join\n",
    "test_df"
   ]
  },
  {
   "cell_type": "code",
   "execution_count": 92,
   "metadata": {
    "collapsed": false
   },
   "outputs": [
    {
     "data": {
      "text/plain": [
       "1"
      ]
     },
     "execution_count": 92,
     "metadata": {},
     "output_type": "execute_result"
    }
   ],
   "source": [
    "test_df[test_df['Vendor.Name'].str.contains('epic',case=False)].shape[0]"
   ]
  },
  {
   "cell_type": "markdown",
   "metadata": {},
   "source": [
    "OK, it works! Now we have to apply this to nearly a quarter million rows, and then figure out what to do with it. I'll decide on a question first, since I may only be interested in the locations of the top few vendors.\n",
    "\n",
    "Actually, let's brainstorm here. I want to see whether the prevalence of a particular vendor varies with either lat or long. Does that mean I need bins? Is there a way to do this on a continuous scale? Maybe let me try to plot prevalence by a predetermined coarse bin -- states."
   ]
  },
  {
   "cell_type": "code",
   "execution_count": 95,
   "metadata": {
    "collapsed": false
   },
   "outputs": [
    {
     "data": {
      "text/plain": [
       "Epic Systems Corporation    121058\n",
       "Name: Vendor.Name, dtype: int64"
      ]
     },
     "execution_count": 95,
     "metadata": {},
     "output_type": "execute_result"
    }
   ],
   "source": [
    "AllEpic = full_df[full_df['Vendor.Name'].str.contains('epic', case=False)]\n",
    "AllEpic['Vendor.Name'].value_counts()"
   ]
  },
  {
   "cell_type": "code",
   "execution_count": 99,
   "metadata": {
    "collapsed": false
   },
   "outputs": [
    {
     "name": "stdout",
     "output_type": "stream",
     "text": [
      "Alabama: 0.023890142964635062\n",
      "Alaska: 0.09765625\n",
      "Arizona: 0.0272756105296543\n",
      "Arkansas: 0.2351138353765324\n",
      "California: 0.35941979522184303\n",
      "Colorado: 0.3320173707066719\n",
      "Connecticut: 0.30270692347735556\n",
      "Delaware: 0.0006472491909385113\n",
      "District Of Columbia: 0.006130790190735695\n",
      "Federated States Of Micronesia: 0.0\n",
      "Florida: 0.14714577321038924\n",
      "Georgia: 0.11606280193236715\n",
      "Guam: 0.019230769230769232\n",
      "Hawaii: 0.7276142767689417\n",
      "Idaho: 0.2926980198019802\n",
      "Illinois: 0.3216988591437931\n",
      "Indiana: 0.16289351322509338\n",
      "Iowa: 0.37317993888189827\n",
      "Kansas: 0.19275717789640745\n",
      "Kentucky: 0.24891540130151843\n",
      "Louisiana: 0.306158065320369\n",
      "Maine: 0.09098939929328621\n",
      "Marshall Islands: 1.0\n",
      "Maryland: 0.34485563237088246\n",
      "Massachusetts: 0.24600422832980973\n",
      "Michigan: 0.49466818511233046\n",
      "Minnesota: 0.3041659787573606\n",
      "Mississippi: 0.0976123595505618\n",
      "Missouri: 0.19318715740015663\n",
      "Montana: 0.07088122605363985\n",
      "Nebraska: 0.1738180373460469\n",
      "Nevada: 0.08027006751687922\n",
      "New Hampshire: 0.32723239046034386\n",
      "New Jersey: 0.09270516717325228\n",
      "New Mexico: 0.4051172707889126\n",
      "New York: 0.21586460278262964\n",
      "North Carolina: 0.27861168461581387\n",
      "North Dakota: 0.45693160813308686\n",
      "Ohio: 0.6230687830687831\n",
      "Oklahoma: 0.12635457303857825\n",
      "Oregon: 0.48555194805194807\n",
      "Palau: 0.6666666666666666\n",
      "Pennsylvania: 0.3474301452623162\n",
      "Puerto Rico: 0.046357615894039736\n",
      "Rhode Island: 0.0648854961832061\n",
      "South Carolina: 0.17339338298978002\n",
      "South Dakota: 0.3732691149909693\n",
      "Tennessee: 0.03520910209102091\n",
      "Texas: 0.32658949243098845\n",
      "Utah: 0.4079841449603624\n",
      "Vermont: 0.3486547085201794\n",
      "Virgin Islands: 0.0\n",
      "Virginia: 0.321405750798722\n",
      "Washington: 0.44577518953961104\n",
      "West Virginia: 0.2587616822429907\n",
      "Wisconsin: 0.314894269077536\n",
      "Wyoming: 0.07389749702026222\n"
     ]
    }
   ],
   "source": [
    "state_groups = full_df.groupby('Business.State.Territory')\n",
    "# for each group, compute a proportion of Epic attestations\n",
    "def get_epic_prop(df):\n",
    "    nEpic = len(df[df['Vendor.Name'].str.contains('epic',case=False)])\n",
    "    nTotal = len(df)\n",
    "    return nEpic/nTotal\n",
    "\n",
    "for name, group in state_groups:\n",
    "    print(name + ': ' + str(get_epic_prop(group)))\n",
    "    "
   ]
  },
  {
   "cell_type": "markdown",
   "metadata": {},
   "source": [
    "Awesome! Looks like there's a lot of variation!"
   ]
  },
  {
   "cell_type": "markdown",
   "metadata": {},
   "source": [
    "Let's preemptively play around with plotting this, since we have some lat/long data free."
   ]
  },
  {
   "cell_type": "code",
   "execution_count": 12,
   "metadata": {
    "collapsed": true
   },
   "outputs": [],
   "source": [
    "import folium"
   ]
  },
  {
   "cell_type": "code",
   "execution_count": 13,
   "metadata": {
    "collapsed": false
   },
   "outputs": [],
   "source": [
    "# note that coordinates can be provided to folium as an array or as a tuple\n",
    "test_coords = [float(test_json2['places'][0]['latitude']), float(test_json2['places'][0]['longitude'])]\n",
    "test_map = folium.Map(location=test_coords, zoom_start=4, tiles='Stamen Toner')\n",
    "# There are 2 ways to add a marker to a map (that don't result in a deprecated error), \n",
    "# but I'm using the latter because it allows me to save the marker and display the map\n",
    "# in a separate cell. Interestingly, things like `popup` show up as \"children\" of the \n",
    "# Marker instance, which is itself a \"child\" of the Map instance\n",
    "# test_map.add_children(folium.Marker(location=test_coords, popup=\"Some doctor's office\"))\n",
    "test_marker = folium.Marker(location=test_coords, popup=\"Some doctor's office\").add_to(test_map)\n",
    "# note: the return value of the `add_to` method is the Marker itself, so this still works. \n",
    "# It's possible that it returns an error, though?"
   ]
  },
  {
   "cell_type": "code",
   "execution_count": 14,
   "metadata": {
    "collapsed": false
   },
   "outputs": [
    {
     "data": {
      "text/plain": [
       "folium.map.Marker"
      ]
     },
     "execution_count": 14,
     "metadata": {},
     "output_type": "execute_result"
    }
   ],
   "source": [
    "type(test_marker) # test_map  # how pretty!"
   ]
  },
  {
   "cell_type": "code",
   "execution_count": 15,
   "metadata": {
    "collapsed": false
   },
   "outputs": [
    {
     "name": "stdout",
     "output_type": "stream",
     "text": [
      "{\"name\": \"Map\", \"id\": \"cbdcad850898495b926c9d58f3f65f46\", \"children\": {\"stamentoner\": {\"name\": \"TileLayer\", \"id\": \"4eed6b489b5e4bd4bb55dfc9adf4687e\", \"children\": {}}, \"marker_376af66dcaf64668b898fddd0a33f647\": {\"name\": \"Marker\", \"id\": \"376af66dcaf64668b898fddd0a33f647\", \"children\": {\"popup_3bf54b225247492bb18b51db5508c810\": {\"name\": \"Popup\", \"id\": \"3bf54b225247492bb18b51db5508c810\", \"children\": {}}}}}}\n"
     ]
    },
    {
     "data": {
      "text/html": [
       "<div style=\"width:100%;\"><div style=\"position:relative;width:100%;height:0;padding-bottom:60%;\"><iframe src=\"data:text/html;base64,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\" style=\"position:absolute;width:100%;height:100%;left:0;top:0;\"></iframe></div></div>"
      ],
      "text/plain": [
       "<folium.folium.Map at 0x7f5d74734fd0>"
      ]
     },
     "execution_count": 15,
     "metadata": {},
     "output_type": "execute_result"
    }
   ],
   "source": [
    "print(test_map.to_json())  # note that to_json loses critical data like the location of a Marker\n",
    "test_map"
   ]
  },
  {
   "cell_type": "code",
   "execution_count": 15,
   "metadata": {
    "collapsed": false
   },
   "outputs": [
    {
     "name": "stdout",
     "output_type": "stream",
     "text": [
      "57\n"
     ]
    },
    {
     "data": {
      "text/plain": [
       "California                        29300\n",
       "Florida                           28414\n",
       "Texas                             28075\n",
       "Pennsylvania                      22511\n",
       "Wisconsin                         19578\n",
       "Michigan                          19318\n",
       "Ohio                              18900\n",
       "Minnesota                         18171\n",
       "North Carolina                    17921\n",
       "Illinois                          17706\n",
       "New York                          16603\n",
       "Indiana                           13119\n",
       "Missouri                          12770\n",
       "Massachusetts                     11825\n",
       "Virginia                          10955\n",
       "Arizona                            9459\n",
       "Washington                         9101\n",
       "New Jersey                         8554\n",
       "Georgia                            8280\n",
       "Maryland                           7377\n",
       "Kansas                             6931\n",
       "Tennessee                          6504\n",
       "Oregon                             6160\n",
       "South Carolina                     5773\n",
       "Iowa                               5563\n",
       "Alabama                            5316\n",
       "Colorado                           5066\n",
       "Nebraska                           5034\n",
       "Oklahoma                           4614\n",
       "Louisiana                          4011\n",
       "Connecticut                        3842\n",
       "Kentucky                           3688\n",
       "Utah                               3532\n",
       "Mississippi                        2848\n",
       "North Dakota                       2705\n",
       "Arkansas                           2284\n",
       "Montana                            2088\n",
       "New Hampshire                      1803\n",
       "West Virginia                      1712\n",
       "South Dakota                       1661\n",
       "Idaho                              1616\n",
       "Hawaii                             1597\n",
       "Delaware                           1545\n",
       "District Of Columbia               1468\n",
       "New Mexico                         1407\n",
       "Nevada                             1333\n",
       "Maine                              1132\n",
       "Vermont                             892\n",
       "Wyoming                             839\n",
       "Rhode Island                        786\n",
       "Alaska                              512\n",
       "Puerto Rico                         151\n",
       "Federated States Of Micronesia       95\n",
       "Guam                                 52\n",
       "Virgin Islands                       28\n",
       "Palau                                 3\n",
       "Marshall Islands                      1\n",
       "Name: Business.State.Territory, dtype: int64"
      ]
     },
     "execution_count": 15,
     "metadata": {},
     "output_type": "execute_result"
    }
   ],
   "source": [
    "states = full_df['Business.State.Territory'].value_counts()\n",
    "print(len(states))\n",
    "states"
   ]
  },
  {
   "cell_type": "code",
   "execution_count": 77,
   "metadata": {
    "collapsed": false
   },
   "outputs": [
    {
     "data": {
      "text/plain": [
       "Medicare             404718\n",
       "Medicare/Medicaid     17811\n",
       "Name: Program.Type, dtype: int64"
      ]
     },
     "execution_count": 77,
     "metadata": {},
     "output_type": "execute_result"
    }
   ],
   "source": [
    "full_df['Program.Type'].value_counts()"
   ]
  },
  {
   "cell_type": "code",
   "execution_count": 17,
   "metadata": {
    "collapsed": false
   },
   "outputs": [
    {
     "data": {
      "text/plain": [
       "Ambulatory    373878\n",
       "Inpatient      48651\n",
       "Name: Product.Setting, dtype: int64"
      ]
     },
     "execution_count": 17,
     "metadata": {},
     "output_type": "execute_result"
    }
   ],
   "source": [
    "full_df['Product.Setting'].value_counts()"
   ]
  },
  {
   "cell_type": "markdown",
   "metadata": {},
   "source": [
    "Interesting...I could see if the top vendors differ significantly between the product settings"
   ]
  },
  {
   "cell_type": "code",
   "execution_count": 26,
   "metadata": {
    "collapsed": false
   },
   "outputs": [
    {
     "name": "stdout",
     "output_type": "stream",
     "text": [
      "Ambulatory\n",
      "Epic Systems Corporation    100277\n",
      "Cerner Corporation           91264\n",
      "Allscripts                   27348\n",
      "eClinicalWorks LLC           18922\n",
      "GE Healthcare                13635\n",
      "Name: Vendor.Name, dtype: int64\n",
      "Ambulatory\n",
      "Epic Systems Corporation    100277\n",
      "Cerner Corporation           91264\n",
      "Allscripts                   27348\n",
      "eClinicalWorks LLC           18922\n",
      "GE Healthcare                13635\n",
      "Name: Vendor.Name, dtype: int64\n",
      "Inpatient\n",
      "Epic Systems Corporation            20781\n",
      "Cerner Corporation                  13664\n",
      "MEDITECH                             3042\n",
      "Sunquest Information Systems Inc     2788\n",
      "McKesson                             1078\n",
      "Name: Vendor.Name, dtype: int64\n"
     ]
    },
    {
     "data": {
      "text/plain": [
       "Product.Setting\n",
       "Ambulatory    False\n",
       "Inpatient     False\n",
       "dtype: bool"
      ]
     },
     "execution_count": 26,
     "metadata": {},
     "output_type": "execute_result"
    }
   ],
   "source": [
    "def print_top_vendors(df):\n",
    "    \"\"\"Given a df, print the top 5 vendors with the most attestations\"\"\"\n",
    "    print(df.iloc[0]['Product.Setting'])\n",
    "    sorted_vendors = df['Vendor.Name'].value_counts().sort_values(ascending=False)\n",
    "    print(sorted_vendors.head())\n",
    "    return False\n",
    "\n",
    "full_df.groupby('Product.Setting').apply(print_top_vendors)"
   ]
  },
  {
   "cell_type": "markdown",
   "metadata": {},
   "source": [
    "The results are interesting. Looks like Epic and Cerner handily top both lists, but the next few are different.\n",
    "\n",
    "The first group being printed twice is a result of the following warnings (from the pandas docs):\n",
    "Warning In the current implementation apply calls func twice on the first group to decide whether it can take a fast or slow code path. This can lead to unexpected behavior if func has side-effects, as they will take effect twice for the first group."
   ]
  },
  {
   "cell_type": "code",
   "execution_count": 22,
   "metadata": {
    "collapsed": false
   },
   "outputs": [
    {
     "data": {
      "text/plain": [
       "2014    422529\n",
       "Name: Product.Certification.Edition.Yr, dtype: int64"
      ]
     },
     "execution_count": 22,
     "metadata": {},
     "output_type": "execute_result"
    }
   ],
   "source": [
    "full_df['Product.Certification.Edition.Yr'].value_counts()"
   ]
  },
  {
   "cell_type": "code",
   "execution_count": 23,
   "metadata": {
    "collapsed": false
   },
   "outputs": [
    {
     "data": {
      "text/plain": [
       "(422529, 22)"
      ]
     },
     "execution_count": 23,
     "metadata": {},
     "output_type": "execute_result"
    }
   ],
   "source": [
    "full_df.shape"
   ]
  },
  {
   "cell_type": "code",
   "execution_count": 159,
   "metadata": {
    "collapsed": false
   },
   "outputs": [
    {
     "data": {
      "text/plain": [
       "229452"
      ]
     },
     "execution_count": 159,
     "metadata": {},
     "output_type": "execute_result"
    }
   ],
   "source": [
    "len(full_df['NPI'].value_counts())"
   ]
  },
  {
   "cell_type": "markdown",
   "metadata": {},
   "source": [
    "Check that there are no hospitals in zip codes which span multiple states. Using zip code level granularity for analysis, but ignoring the fact that there are 13 (?) zip codes which span multiple states could be an annoying error."
   ]
  },
  {
   "cell_type": "code",
   "execution_count": 155,
   "metadata": {
    "collapsed": true
   },
   "outputs": [],
   "source": [
    "npi_groups = full_df.groupby('NPI')"
   ]
  },
  {
   "cell_type": "code",
   "execution_count": 157,
   "metadata": {
    "collapsed": false
   },
   "outputs": [
    {
     "data": {
      "text/plain": [
       "229452"
      ]
     },
     "execution_count": 157,
     "metadata": {},
     "output_type": "execute_result"
    }
   ],
   "source": [
    "len(npi_groups)"
   ]
  },
  {
   "cell_type": "markdown",
   "metadata": {},
   "source": [
    "Is the number of NPIs equal to the number of attestation IDs?"
   ]
  },
  {
   "cell_type": "code",
   "execution_count": 160,
   "metadata": {
    "collapsed": true
   },
   "outputs": [],
   "source": [
    "attestation_groups = full_df.groupby('Attestation_ID')"
   ]
  },
  {
   "cell_type": "code",
   "execution_count": 161,
   "metadata": {
    "collapsed": false
   },
   "outputs": [
    {
     "data": {
      "text/plain": [
       "229453"
      ]
     },
     "execution_count": 161,
     "metadata": {},
     "output_type": "execute_result"
    }
   ],
   "source": [
    "len(attestation_groups)"
   ]
  },
  {
   "cell_type": "markdown",
   "metadata": {},
   "source": [
    "WTF is this off by one? Why is there one more attestation ID than NPI? Which NPI has 2 attestation IDs? We think there are no null NPIs, so the NPI groupby should not be failing there. Alternatively is there an attestation ID which has neither an NPI nor a CCN?|"
   ]
  },
  {
   "cell_type": "code",
   "execution_count": 212,
   "metadata": {
    "collapsed": false
   },
   "outputs": [
    {
     "data": {
      "text/plain": [
       "Attestation_ID\n",
       "1         1\n",
       "636591    1\n",
       "636602    1\n",
       "636603    1\n",
       "636606    1\n",
       "636612    1\n",
       "636615    1\n",
       "636616    1\n",
       "636627    1\n",
       "636629    1\n",
       "636632    1\n",
       "636636    1\n",
       "636586    1\n",
       "636642    1\n",
       "636647    1\n",
       "636653    1\n",
       "636655    1\n",
       "636659    1\n",
       "636663    1\n",
       "636664    1\n",
       "636672    1\n",
       "636673    1\n",
       "636680    1\n",
       "636687    1\n",
       "636690    1\n",
       "636644    1\n",
       "636691    1\n",
       "636584    1\n",
       "636565    1\n",
       "636467    1\n",
       "         ..\n",
       "318556    1\n",
       "318551    1\n",
       "318547    1\n",
       "318427    1\n",
       "318439    1\n",
       "318446    1\n",
       "318447    1\n",
       "318451    1\n",
       "318456    1\n",
       "318460    1\n",
       "318465    1\n",
       "318469    1\n",
       "318486    1\n",
       "318487    1\n",
       "318494    1\n",
       "318497    1\n",
       "318498    1\n",
       "318505    1\n",
       "318506    1\n",
       "318507    1\n",
       "318514    1\n",
       "318520    1\n",
       "318522    1\n",
       "318527    1\n",
       "318533    1\n",
       "318537    1\n",
       "318538    1\n",
       "318539    1\n",
       "321288    1\n",
       "954115    1\n",
       "Name: NPI, dtype: int64"
      ]
     },
     "execution_count": 212,
     "metadata": {},
     "output_type": "execute_result"
    }
   ],
   "source": [
    "attestation_groups['NPI'].nunique().sort_values()"
   ]
  },
  {
   "cell_type": "code",
   "execution_count": 4,
   "metadata": {
    "collapsed": false
   },
   "outputs": [],
   "source": [
    "test_multi = full_df.groupby(['NPI'])\n",
    "# we want the number of unique attestations per NPI"
   ]
  },
  {
   "cell_type": "code",
   "execution_count": 17,
   "metadata": {
    "collapsed": false
   },
   "outputs": [
    {
     "name": "stdout",
     "output_type": "stream",
     "text": [
      "1962455832\n"
     ]
    },
    {
     "data": {
      "text/plain": [
       "NPI\n",
       "1003000142    1\n",
       "1669538674    1\n",
       "1669538963    1\n",
       "1669539649    1\n",
       "1669539862    1\n",
       "1669540100    1\n",
       "1669540191    1\n",
       "1669540308    1\n",
       "1669540324    1\n",
       "1669540464    1\n",
       "1669540472    1\n",
       "1669540522    1\n",
       "1669538591    1\n",
       "1669540530    1\n",
       "1669540654    1\n",
       "1669540761    1\n",
       "1669541066    1\n",
       "1669541157    1\n",
       "1669541207    1\n",
       "1669541504    1\n",
       "1669541678    1\n",
       "1669541702    1\n",
       "1669541744    1\n",
       "1669542833    1\n",
       "1669542999    1\n",
       "1669540613    1\n",
       "1669543120    1\n",
       "1669538047    1\n",
       "1669536348    1\n",
       "1669530648    1\n",
       "             ..\n",
       "1336146638    1\n",
       "1336146612    1\n",
       "1336146570    1\n",
       "1336145739    1\n",
       "1336145762    1\n",
       "1336145770    1\n",
       "1336145804    1\n",
       "1336145838    1\n",
       "1336145879    1\n",
       "1336145895    1\n",
       "1336145911    1\n",
       "1336146000    1\n",
       "1336146042    1\n",
       "1336146059    1\n",
       "1336146125    1\n",
       "1336146208    1\n",
       "1336146224    1\n",
       "1336146257    1\n",
       "1336146265    1\n",
       "1336146273    1\n",
       "1336146299    1\n",
       "1336146315    1\n",
       "1336146349    1\n",
       "1336146448    1\n",
       "1336146497    1\n",
       "1336146513    1\n",
       "1336146521    1\n",
       "1336147834    1\n",
       "1992999825    1\n",
       "1962455832    2\n",
       "Name: Attestation_ID, dtype: int64"
      ]
     },
     "execution_count": 17,
     "metadata": {},
     "output_type": "execute_result"
    }
   ],
   "source": [
    "print(test_multi['Attestation_ID'].nunique().sort_values().tail(1).index[0])\n",
    "test_multi['Attestation_ID'].nunique().sort_values()"
   ]
  },
  {
   "cell_type": "code",
   "execution_count": 219,
   "metadata": {
    "collapsed": false
   },
   "outputs": [
    {
     "data": {
      "text/html": [
       "<div>\n",
       "<table border=\"1\" class=\"dataframe\">\n",
       "  <thead>\n",
       "    <tr style=\"text-align: right;\">\n",
       "      <th></th>\n",
       "      <th>EHR.Certification.Number</th>\n",
       "      <th>Vendor.Name</th>\n",
       "      <th>EHR.Product.CHP.Id</th>\n",
       "      <th>EHR.Product.Name</th>\n",
       "      <th>EHR.Product.Version</th>\n",
       "      <th>Product.Classification</th>\n",
       "      <th>Product.Setting</th>\n",
       "      <th>Product.Certification.Edition.Yr</th>\n",
       "      <th>Attestation.Month</th>\n",
       "      <th>Attestation.Year</th>\n",
       "      <th>...</th>\n",
       "      <th>Specialty</th>\n",
       "      <th>Program.Year</th>\n",
       "      <th>Payment.Year</th>\n",
       "      <th>Provider.Stage.Number</th>\n",
       "      <th>Program.Type</th>\n",
       "      <th>Stage.2.Scheduled.2014</th>\n",
       "      <th>MU.Definition.2014</th>\n",
       "      <th>Attestation_ID</th>\n",
       "      <th>NPI</th>\n",
       "      <th>CCN</th>\n",
       "    </tr>\n",
       "  </thead>\n",
       "  <tbody>\n",
       "    <tr>\n",
       "      <th>406552</th>\n",
       "      <td>1314E01RMR9BEAD</td>\n",
       "      <td>Cerner Corporation</td>\n",
       "      <td>CHP-019313</td>\n",
       "      <td>P2 Sentinel (Powered by Sensage)</td>\n",
       "      <td>5</td>\n",
       "      <td>Modular EHR</td>\n",
       "      <td>Inpatient</td>\n",
       "      <td>2014</td>\n",
       "      <td>3</td>\n",
       "      <td>2016</td>\n",
       "      <td>...</td>\n",
       "      <td>NaN</td>\n",
       "      <td>2015</td>\n",
       "      <td>1.0</td>\n",
       "      <td>Stage 1</td>\n",
       "      <td>Medicare/Medicaid</td>\n",
       "      <td>1.0</td>\n",
       "      <td>NaN</td>\n",
       "      <td>919100</td>\n",
       "      <td>1962455832</td>\n",
       "      <td>450052.0</td>\n",
       "    </tr>\n",
       "    <tr>\n",
       "      <th>406553</th>\n",
       "      <td>1314E01RMR9BEAD</td>\n",
       "      <td>Cerner Corporation</td>\n",
       "      <td>CHP-025188</td>\n",
       "      <td>Powerchart (Clinical)</td>\n",
       "      <td>2015.01.01</td>\n",
       "      <td>Modular EHR</td>\n",
       "      <td>Inpatient</td>\n",
       "      <td>2014</td>\n",
       "      <td>3</td>\n",
       "      <td>2016</td>\n",
       "      <td>...</td>\n",
       "      <td>NaN</td>\n",
       "      <td>2015</td>\n",
       "      <td>1.0</td>\n",
       "      <td>Stage 1</td>\n",
       "      <td>Medicare/Medicaid</td>\n",
       "      <td>1.0</td>\n",
       "      <td>NaN</td>\n",
       "      <td>919100</td>\n",
       "      <td>1962455832</td>\n",
       "      <td>450052.0</td>\n",
       "    </tr>\n",
       "    <tr>\n",
       "      <th>406554</th>\n",
       "      <td>1314E01RMR9BEAD</td>\n",
       "      <td>Cerner Corporation</td>\n",
       "      <td>CHP-025192</td>\n",
       "      <td>Powerchart (eRX)</td>\n",
       "      <td>2015.01.01</td>\n",
       "      <td>Modular EHR</td>\n",
       "      <td>Inpatient</td>\n",
       "      <td>2014</td>\n",
       "      <td>3</td>\n",
       "      <td>2016</td>\n",
       "      <td>...</td>\n",
       "      <td>NaN</td>\n",
       "      <td>2015</td>\n",
       "      <td>1.0</td>\n",
       "      <td>Stage 1</td>\n",
       "      <td>Medicare/Medicaid</td>\n",
       "      <td>1.0</td>\n",
       "      <td>NaN</td>\n",
       "      <td>919100</td>\n",
       "      <td>1962455832</td>\n",
       "      <td>450052.0</td>\n",
       "    </tr>\n",
       "    <tr>\n",
       "      <th>406555</th>\n",
       "      <td>1314E01RMR9BEAD</td>\n",
       "      <td>Cerner Corporation</td>\n",
       "      <td>CHP-025193</td>\n",
       "      <td>Powerchart (All CQM's)</td>\n",
       "      <td>2015.01.01</td>\n",
       "      <td>Modular EHR</td>\n",
       "      <td>Inpatient</td>\n",
       "      <td>2014</td>\n",
       "      <td>3</td>\n",
       "      <td>2016</td>\n",
       "      <td>...</td>\n",
       "      <td>NaN</td>\n",
       "      <td>2015</td>\n",
       "      <td>1.0</td>\n",
       "      <td>Stage 1</td>\n",
       "      <td>Medicare/Medicaid</td>\n",
       "      <td>1.0</td>\n",
       "      <td>NaN</td>\n",
       "      <td>919100</td>\n",
       "      <td>1962455832</td>\n",
       "      <td>450052.0</td>\n",
       "    </tr>\n",
       "    <tr>\n",
       "      <th>406556</th>\n",
       "      <td>1314E01RMR9BEAD</td>\n",
       "      <td>Cerner Corporation</td>\n",
       "      <td>CHP-025470</td>\n",
       "      <td>PathNet</td>\n",
       "      <td>2015.01.03</td>\n",
       "      <td>Modular EHR</td>\n",
       "      <td>Inpatient</td>\n",
       "      <td>2014</td>\n",
       "      <td>3</td>\n",
       "      <td>2016</td>\n",
       "      <td>...</td>\n",
       "      <td>NaN</td>\n",
       "      <td>2015</td>\n",
       "      <td>1.0</td>\n",
       "      <td>Stage 1</td>\n",
       "      <td>Medicare/Medicaid</td>\n",
       "      <td>1.0</td>\n",
       "      <td>NaN</td>\n",
       "      <td>919100</td>\n",
       "      <td>1962455832</td>\n",
       "      <td>450052.0</td>\n",
       "    </tr>\n",
       "    <tr>\n",
       "      <th>406557</th>\n",
       "      <td>1314E01RMR9BEAD</td>\n",
       "      <td>Cerner Corporation</td>\n",
       "      <td>CHP-028305</td>\n",
       "      <td>Powerchart (All CQM's)</td>\n",
       "      <td>2015.01.08</td>\n",
       "      <td>Modular EHR</td>\n",
       "      <td>Inpatient</td>\n",
       "      <td>2014</td>\n",
       "      <td>3</td>\n",
       "      <td>2016</td>\n",
       "      <td>...</td>\n",
       "      <td>NaN</td>\n",
       "      <td>2015</td>\n",
       "      <td>1.0</td>\n",
       "      <td>Stage 1</td>\n",
       "      <td>Medicare/Medicaid</td>\n",
       "      <td>1.0</td>\n",
       "      <td>NaN</td>\n",
       "      <td>919100</td>\n",
       "      <td>1962455832</td>\n",
       "      <td>450052.0</td>\n",
       "    </tr>\n",
       "    <tr>\n",
       "      <th>406558</th>\n",
       "      <td>1314E01RMR9BEAD</td>\n",
       "      <td>Cerner Corporation</td>\n",
       "      <td>CHP-028310</td>\n",
       "      <td>HealthSentry</td>\n",
       "      <td>2015.08</td>\n",
       "      <td>Modular EHR</td>\n",
       "      <td>Inpatient</td>\n",
       "      <td>2014</td>\n",
       "      <td>3</td>\n",
       "      <td>2016</td>\n",
       "      <td>...</td>\n",
       "      <td>NaN</td>\n",
       "      <td>2015</td>\n",
       "      <td>1.0</td>\n",
       "      <td>Stage 1</td>\n",
       "      <td>Medicare/Medicaid</td>\n",
       "      <td>1.0</td>\n",
       "      <td>NaN</td>\n",
       "      <td>919100</td>\n",
       "      <td>1962455832</td>\n",
       "      <td>450052.0</td>\n",
       "    </tr>\n",
       "    <tr>\n",
       "      <th>406559</th>\n",
       "      <td>1314E01RMR9BEAD</td>\n",
       "      <td>Cerner Corporation</td>\n",
       "      <td>CHP-028318</td>\n",
       "      <td>Powerchart (Clinical)</td>\n",
       "      <td>2015.01.08</td>\n",
       "      <td>Modular EHR</td>\n",
       "      <td>Inpatient</td>\n",
       "      <td>2014</td>\n",
       "      <td>3</td>\n",
       "      <td>2016</td>\n",
       "      <td>...</td>\n",
       "      <td>NaN</td>\n",
       "      <td>2015</td>\n",
       "      <td>1.0</td>\n",
       "      <td>Stage 1</td>\n",
       "      <td>Medicare/Medicaid</td>\n",
       "      <td>1.0</td>\n",
       "      <td>NaN</td>\n",
       "      <td>919100</td>\n",
       "      <td>1962455832</td>\n",
       "      <td>450052.0</td>\n",
       "    </tr>\n",
       "    <tr>\n",
       "      <th>406560</th>\n",
       "      <td>1314E01RMR9BEAD</td>\n",
       "      <td>Cerner Corporation</td>\n",
       "      <td>CHP-028328</td>\n",
       "      <td>Powerchart (eRX)</td>\n",
       "      <td>2015.01.08</td>\n",
       "      <td>Modular EHR</td>\n",
       "      <td>Inpatient</td>\n",
       "      <td>2014</td>\n",
       "      <td>3</td>\n",
       "      <td>2016</td>\n",
       "      <td>...</td>\n",
       "      <td>NaN</td>\n",
       "      <td>2015</td>\n",
       "      <td>1.0</td>\n",
       "      <td>Stage 1</td>\n",
       "      <td>Medicare/Medicaid</td>\n",
       "      <td>1.0</td>\n",
       "      <td>NaN</td>\n",
       "      <td>919100</td>\n",
       "      <td>1962455832</td>\n",
       "      <td>450052.0</td>\n",
       "    </tr>\n",
       "    <tr>\n",
       "      <th>406561</th>\n",
       "      <td>1314E01RMR9BEAD</td>\n",
       "      <td>Cerner Corporation</td>\n",
       "      <td>CHP-028429</td>\n",
       "      <td>HealthSentry</td>\n",
       "      <td>2015.09</td>\n",
       "      <td>Modular EHR</td>\n",
       "      <td>Inpatient</td>\n",
       "      <td>2014</td>\n",
       "      <td>3</td>\n",
       "      <td>2016</td>\n",
       "      <td>...</td>\n",
       "      <td>NaN</td>\n",
       "      <td>2015</td>\n",
       "      <td>1.0</td>\n",
       "      <td>Stage 1</td>\n",
       "      <td>Medicare/Medicaid</td>\n",
       "      <td>1.0</td>\n",
       "      <td>NaN</td>\n",
       "      <td>919100</td>\n",
       "      <td>1962455832</td>\n",
       "      <td>450052.0</td>\n",
       "    </tr>\n",
       "    <tr>\n",
       "      <th>406562</th>\n",
       "      <td>1314E01RMR9BEAD</td>\n",
       "      <td>Cerner Corporation</td>\n",
       "      <td>CHP-028433</td>\n",
       "      <td>HealthSentry</td>\n",
       "      <td>2015.1</td>\n",
       "      <td>Modular EHR</td>\n",
       "      <td>Inpatient</td>\n",
       "      <td>2014</td>\n",
       "      <td>3</td>\n",
       "      <td>2016</td>\n",
       "      <td>...</td>\n",
       "      <td>NaN</td>\n",
       "      <td>2015</td>\n",
       "      <td>1.0</td>\n",
       "      <td>Stage 1</td>\n",
       "      <td>Medicare/Medicaid</td>\n",
       "      <td>1.0</td>\n",
       "      <td>NaN</td>\n",
       "      <td>919100</td>\n",
       "      <td>1962455832</td>\n",
       "      <td>450052.0</td>\n",
       "    </tr>\n",
       "    <tr>\n",
       "      <th>406563</th>\n",
       "      <td>1314E01RMR9BEAD</td>\n",
       "      <td>Cerner Corporation</td>\n",
       "      <td>CHP-028977</td>\n",
       "      <td>HealthSentry</td>\n",
       "      <td>2015.11</td>\n",
       "      <td>Modular EHR</td>\n",
       "      <td>Inpatient</td>\n",
       "      <td>2014</td>\n",
       "      <td>3</td>\n",
       "      <td>2016</td>\n",
       "      <td>...</td>\n",
       "      <td>NaN</td>\n",
       "      <td>2015</td>\n",
       "      <td>1.0</td>\n",
       "      <td>Stage 1</td>\n",
       "      <td>Medicare/Medicaid</td>\n",
       "      <td>1.0</td>\n",
       "      <td>NaN</td>\n",
       "      <td>919100</td>\n",
       "      <td>1962455832</td>\n",
       "      <td>450052.0</td>\n",
       "    </tr>\n",
       "    <tr>\n",
       "      <th>406564</th>\n",
       "      <td>1314E01ROGBPEAD</td>\n",
       "      <td>Cerner Corporation</td>\n",
       "      <td>CHP-019313</td>\n",
       "      <td>P2 Sentinel (Powered by Sensage)</td>\n",
       "      <td>5</td>\n",
       "      <td>Modular EHR</td>\n",
       "      <td>Inpatient</td>\n",
       "      <td>2014</td>\n",
       "      <td>2</td>\n",
       "      <td>2016</td>\n",
       "      <td>...</td>\n",
       "      <td>NaN</td>\n",
       "      <td>2015</td>\n",
       "      <td>4.0</td>\n",
       "      <td>Stage 2</td>\n",
       "      <td>Medicare/Medicaid</td>\n",
       "      <td>1.0</td>\n",
       "      <td>NaN</td>\n",
       "      <td>919101</td>\n",
       "      <td>1962455832</td>\n",
       "      <td>450052.0</td>\n",
       "    </tr>\n",
       "    <tr>\n",
       "      <th>406565</th>\n",
       "      <td>1314E01ROGBPEAD</td>\n",
       "      <td>Cerner Corporation</td>\n",
       "      <td>CHP-025187</td>\n",
       "      <td>HealtheLife and Powerchart</td>\n",
       "      <td>2015.01.01</td>\n",
       "      <td>Modular EHR</td>\n",
       "      <td>Inpatient</td>\n",
       "      <td>2014</td>\n",
       "      <td>2</td>\n",
       "      <td>2016</td>\n",
       "      <td>...</td>\n",
       "      <td>NaN</td>\n",
       "      <td>2015</td>\n",
       "      <td>4.0</td>\n",
       "      <td>Stage 2</td>\n",
       "      <td>Medicare/Medicaid</td>\n",
       "      <td>1.0</td>\n",
       "      <td>NaN</td>\n",
       "      <td>919101</td>\n",
       "      <td>1962455832</td>\n",
       "      <td>450052.0</td>\n",
       "    </tr>\n",
       "    <tr>\n",
       "      <th>406566</th>\n",
       "      <td>1314E01ROGBPEAD</td>\n",
       "      <td>Cerner Corporation</td>\n",
       "      <td>CHP-025188</td>\n",
       "      <td>Powerchart (Clinical)</td>\n",
       "      <td>2015.01.01</td>\n",
       "      <td>Modular EHR</td>\n",
       "      <td>Inpatient</td>\n",
       "      <td>2014</td>\n",
       "      <td>2</td>\n",
       "      <td>2016</td>\n",
       "      <td>...</td>\n",
       "      <td>NaN</td>\n",
       "      <td>2015</td>\n",
       "      <td>4.0</td>\n",
       "      <td>Stage 2</td>\n",
       "      <td>Medicare/Medicaid</td>\n",
       "      <td>1.0</td>\n",
       "      <td>NaN</td>\n",
       "      <td>919101</td>\n",
       "      <td>1962455832</td>\n",
       "      <td>450052.0</td>\n",
       "    </tr>\n",
       "    <tr>\n",
       "      <th>406567</th>\n",
       "      <td>1314E01ROGBPEAD</td>\n",
       "      <td>Cerner Corporation</td>\n",
       "      <td>CHP-025192</td>\n",
       "      <td>Powerchart (eRX)</td>\n",
       "      <td>2015.01.01</td>\n",
       "      <td>Modular EHR</td>\n",
       "      <td>Inpatient</td>\n",
       "      <td>2014</td>\n",
       "      <td>2</td>\n",
       "      <td>2016</td>\n",
       "      <td>...</td>\n",
       "      <td>NaN</td>\n",
       "      <td>2015</td>\n",
       "      <td>4.0</td>\n",
       "      <td>Stage 2</td>\n",
       "      <td>Medicare/Medicaid</td>\n",
       "      <td>1.0</td>\n",
       "      <td>NaN</td>\n",
       "      <td>919101</td>\n",
       "      <td>1962455832</td>\n",
       "      <td>450052.0</td>\n",
       "    </tr>\n",
       "    <tr>\n",
       "      <th>406568</th>\n",
       "      <td>1314E01ROGBPEAD</td>\n",
       "      <td>Cerner Corporation</td>\n",
       "      <td>CHP-025193</td>\n",
       "      <td>Powerchart (All CQM's)</td>\n",
       "      <td>2015.01.01</td>\n",
       "      <td>Modular EHR</td>\n",
       "      <td>Inpatient</td>\n",
       "      <td>2014</td>\n",
       "      <td>2</td>\n",
       "      <td>2016</td>\n",
       "      <td>...</td>\n",
       "      <td>NaN</td>\n",
       "      <td>2015</td>\n",
       "      <td>4.0</td>\n",
       "      <td>Stage 2</td>\n",
       "      <td>Medicare/Medicaid</td>\n",
       "      <td>1.0</td>\n",
       "      <td>NaN</td>\n",
       "      <td>919101</td>\n",
       "      <td>1962455832</td>\n",
       "      <td>450052.0</td>\n",
       "    </tr>\n",
       "    <tr>\n",
       "      <th>406569</th>\n",
       "      <td>1314E01ROGBPEAD</td>\n",
       "      <td>Cerner Corporation</td>\n",
       "      <td>CHP-025200</td>\n",
       "      <td>HealtheLife and FirstNet</td>\n",
       "      <td>2015.01.01</td>\n",
       "      <td>Modular EHR</td>\n",
       "      <td>Inpatient</td>\n",
       "      <td>2014</td>\n",
       "      <td>2</td>\n",
       "      <td>2016</td>\n",
       "      <td>...</td>\n",
       "      <td>NaN</td>\n",
       "      <td>2015</td>\n",
       "      <td>4.0</td>\n",
       "      <td>Stage 2</td>\n",
       "      <td>Medicare/Medicaid</td>\n",
       "      <td>1.0</td>\n",
       "      <td>NaN</td>\n",
       "      <td>919101</td>\n",
       "      <td>1962455832</td>\n",
       "      <td>450052.0</td>\n",
       "    </tr>\n",
       "    <tr>\n",
       "      <th>406570</th>\n",
       "      <td>1314E01ROGBPEAD</td>\n",
       "      <td>Cerner Corporation</td>\n",
       "      <td>CHP-025272</td>\n",
       "      <td>Powerchart (All CQM's)</td>\n",
       "      <td>2012.01.37</td>\n",
       "      <td>Modular EHR</td>\n",
       "      <td>Inpatient</td>\n",
       "      <td>2014</td>\n",
       "      <td>2</td>\n",
       "      <td>2016</td>\n",
       "      <td>...</td>\n",
       "      <td>NaN</td>\n",
       "      <td>2015</td>\n",
       "      <td>4.0</td>\n",
       "      <td>Stage 2</td>\n",
       "      <td>Medicare/Medicaid</td>\n",
       "      <td>1.0</td>\n",
       "      <td>NaN</td>\n",
       "      <td>919101</td>\n",
       "      <td>1962455832</td>\n",
       "      <td>450052.0</td>\n",
       "    </tr>\n",
       "    <tr>\n",
       "      <th>406571</th>\n",
       "      <td>1314E01ROGBPEAD</td>\n",
       "      <td>Cerner Corporation</td>\n",
       "      <td>CHP-025278</td>\n",
       "      <td>Powerchart (eRX)</td>\n",
       "      <td>2012.01.37</td>\n",
       "      <td>Modular EHR</td>\n",
       "      <td>Inpatient</td>\n",
       "      <td>2014</td>\n",
       "      <td>2</td>\n",
       "      <td>2016</td>\n",
       "      <td>...</td>\n",
       "      <td>NaN</td>\n",
       "      <td>2015</td>\n",
       "      <td>4.0</td>\n",
       "      <td>Stage 2</td>\n",
       "      <td>Medicare/Medicaid</td>\n",
       "      <td>1.0</td>\n",
       "      <td>NaN</td>\n",
       "      <td>919101</td>\n",
       "      <td>1962455832</td>\n",
       "      <td>450052.0</td>\n",
       "    </tr>\n",
       "    <tr>\n",
       "      <th>406572</th>\n",
       "      <td>1314E01ROGBPEAD</td>\n",
       "      <td>Cerner Corporation</td>\n",
       "      <td>CHP-025283</td>\n",
       "      <td>HealthSentry</td>\n",
       "      <td>2015.01</td>\n",
       "      <td>Modular EHR</td>\n",
       "      <td>Inpatient</td>\n",
       "      <td>2014</td>\n",
       "      <td>2</td>\n",
       "      <td>2016</td>\n",
       "      <td>...</td>\n",
       "      <td>NaN</td>\n",
       "      <td>2015</td>\n",
       "      <td>4.0</td>\n",
       "      <td>Stage 2</td>\n",
       "      <td>Medicare/Medicaid</td>\n",
       "      <td>1.0</td>\n",
       "      <td>NaN</td>\n",
       "      <td>919101</td>\n",
       "      <td>1962455832</td>\n",
       "      <td>450052.0</td>\n",
       "    </tr>\n",
       "    <tr>\n",
       "      <th>406573</th>\n",
       "      <td>1314E01ROGBPEAD</td>\n",
       "      <td>Cerner Corporation</td>\n",
       "      <td>CHP-025287</td>\n",
       "      <td>Powerchart (Clinical)</td>\n",
       "      <td>2012.01.37</td>\n",
       "      <td>Modular EHR</td>\n",
       "      <td>Inpatient</td>\n",
       "      <td>2014</td>\n",
       "      <td>2</td>\n",
       "      <td>2016</td>\n",
       "      <td>...</td>\n",
       "      <td>NaN</td>\n",
       "      <td>2015</td>\n",
       "      <td>4.0</td>\n",
       "      <td>Stage 2</td>\n",
       "      <td>Medicare/Medicaid</td>\n",
       "      <td>1.0</td>\n",
       "      <td>NaN</td>\n",
       "      <td>919101</td>\n",
       "      <td>1962455832</td>\n",
       "      <td>450052.0</td>\n",
       "    </tr>\n",
       "    <tr>\n",
       "      <th>406574</th>\n",
       "      <td>1314E01ROGBPEAD</td>\n",
       "      <td>Cerner Corporation</td>\n",
       "      <td>CHP-025295</td>\n",
       "      <td>HealtheLife and Powerchart</td>\n",
       "      <td>2012.01.37</td>\n",
       "      <td>Modular EHR</td>\n",
       "      <td>Inpatient</td>\n",
       "      <td>2014</td>\n",
       "      <td>2</td>\n",
       "      <td>2016</td>\n",
       "      <td>...</td>\n",
       "      <td>NaN</td>\n",
       "      <td>2015</td>\n",
       "      <td>4.0</td>\n",
       "      <td>Stage 2</td>\n",
       "      <td>Medicare/Medicaid</td>\n",
       "      <td>1.0</td>\n",
       "      <td>NaN</td>\n",
       "      <td>919101</td>\n",
       "      <td>1962455832</td>\n",
       "      <td>450052.0</td>\n",
       "    </tr>\n",
       "    <tr>\n",
       "      <th>406575</th>\n",
       "      <td>1314E01ROGBPEAD</td>\n",
       "      <td>Cerner Corporation</td>\n",
       "      <td>CHP-025298</td>\n",
       "      <td>HealtheLife and FirstNet</td>\n",
       "      <td>2012.01.37</td>\n",
       "      <td>Modular EHR</td>\n",
       "      <td>Inpatient</td>\n",
       "      <td>2014</td>\n",
       "      <td>2</td>\n",
       "      <td>2016</td>\n",
       "      <td>...</td>\n",
       "      <td>NaN</td>\n",
       "      <td>2015</td>\n",
       "      <td>4.0</td>\n",
       "      <td>Stage 2</td>\n",
       "      <td>Medicare/Medicaid</td>\n",
       "      <td>1.0</td>\n",
       "      <td>NaN</td>\n",
       "      <td>919101</td>\n",
       "      <td>1962455832</td>\n",
       "      <td>450052.0</td>\n",
       "    </tr>\n",
       "    <tr>\n",
       "      <th>406576</th>\n",
       "      <td>1314E01ROGBPEAD</td>\n",
       "      <td>Cerner Corporation</td>\n",
       "      <td>CHP-025371</td>\n",
       "      <td>HealthSentry</td>\n",
       "      <td>2015.02</td>\n",
       "      <td>Modular EHR</td>\n",
       "      <td>Inpatient</td>\n",
       "      <td>2014</td>\n",
       "      <td>2</td>\n",
       "      <td>2016</td>\n",
       "      <td>...</td>\n",
       "      <td>NaN</td>\n",
       "      <td>2015</td>\n",
       "      <td>4.0</td>\n",
       "      <td>Stage 2</td>\n",
       "      <td>Medicare/Medicaid</td>\n",
       "      <td>1.0</td>\n",
       "      <td>NaN</td>\n",
       "      <td>919101</td>\n",
       "      <td>1962455832</td>\n",
       "      <td>450052.0</td>\n",
       "    </tr>\n",
       "    <tr>\n",
       "      <th>406577</th>\n",
       "      <td>1314E01ROGBPEAD</td>\n",
       "      <td>Cerner Corporation</td>\n",
       "      <td>CHP-025470</td>\n",
       "      <td>PathNet</td>\n",
       "      <td>2015.01.03</td>\n",
       "      <td>Modular EHR</td>\n",
       "      <td>Inpatient</td>\n",
       "      <td>2014</td>\n",
       "      <td>2</td>\n",
       "      <td>2016</td>\n",
       "      <td>...</td>\n",
       "      <td>NaN</td>\n",
       "      <td>2015</td>\n",
       "      <td>4.0</td>\n",
       "      <td>Stage 2</td>\n",
       "      <td>Medicare/Medicaid</td>\n",
       "      <td>1.0</td>\n",
       "      <td>NaN</td>\n",
       "      <td>919101</td>\n",
       "      <td>1962455832</td>\n",
       "      <td>450052.0</td>\n",
       "    </tr>\n",
       "    <tr>\n",
       "      <th>406578</th>\n",
       "      <td>1314E01ROGBPEAD</td>\n",
       "      <td>Cerner Corporation</td>\n",
       "      <td>CHP-027115</td>\n",
       "      <td>HealthSentry</td>\n",
       "      <td>2015.03</td>\n",
       "      <td>Modular EHR</td>\n",
       "      <td>Inpatient</td>\n",
       "      <td>2014</td>\n",
       "      <td>2</td>\n",
       "      <td>2016</td>\n",
       "      <td>...</td>\n",
       "      <td>NaN</td>\n",
       "      <td>2015</td>\n",
       "      <td>4.0</td>\n",
       "      <td>Stage 2</td>\n",
       "      <td>Medicare/Medicaid</td>\n",
       "      <td>1.0</td>\n",
       "      <td>NaN</td>\n",
       "      <td>919101</td>\n",
       "      <td>1962455832</td>\n",
       "      <td>450052.0</td>\n",
       "    </tr>\n",
       "    <tr>\n",
       "      <th>406579</th>\n",
       "      <td>1314E01ROGBPEAD</td>\n",
       "      <td>Cerner Corporation</td>\n",
       "      <td>CHP-027267</td>\n",
       "      <td>HealthSentry</td>\n",
       "      <td>2015.04</td>\n",
       "      <td>Modular EHR</td>\n",
       "      <td>Inpatient</td>\n",
       "      <td>2014</td>\n",
       "      <td>2</td>\n",
       "      <td>2016</td>\n",
       "      <td>...</td>\n",
       "      <td>NaN</td>\n",
       "      <td>2015</td>\n",
       "      <td>4.0</td>\n",
       "      <td>Stage 2</td>\n",
       "      <td>Medicare/Medicaid</td>\n",
       "      <td>1.0</td>\n",
       "      <td>NaN</td>\n",
       "      <td>919101</td>\n",
       "      <td>1962455832</td>\n",
       "      <td>450052.0</td>\n",
       "    </tr>\n",
       "    <tr>\n",
       "      <th>406580</th>\n",
       "      <td>1314E01ROGBPEAD</td>\n",
       "      <td>Cerner Corporation</td>\n",
       "      <td>CHP-028013</td>\n",
       "      <td>HealtheLife and FirstNet</td>\n",
       "      <td>2015.01.06</td>\n",
       "      <td>Modular EHR</td>\n",
       "      <td>Inpatient</td>\n",
       "      <td>2014</td>\n",
       "      <td>2</td>\n",
       "      <td>2016</td>\n",
       "      <td>...</td>\n",
       "      <td>NaN</td>\n",
       "      <td>2015</td>\n",
       "      <td>4.0</td>\n",
       "      <td>Stage 2</td>\n",
       "      <td>Medicare/Medicaid</td>\n",
       "      <td>1.0</td>\n",
       "      <td>NaN</td>\n",
       "      <td>919101</td>\n",
       "      <td>1962455832</td>\n",
       "      <td>450052.0</td>\n",
       "    </tr>\n",
       "    <tr>\n",
       "      <th>406581</th>\n",
       "      <td>1314E01ROGBPEAD</td>\n",
       "      <td>Cerner Corporation</td>\n",
       "      <td>CHP-028308</td>\n",
       "      <td>HealtheLife and FirstNet</td>\n",
       "      <td>2015.01.08</td>\n",
       "      <td>Modular EHR</td>\n",
       "      <td>Inpatient</td>\n",
       "      <td>2014</td>\n",
       "      <td>2</td>\n",
       "      <td>2016</td>\n",
       "      <td>...</td>\n",
       "      <td>NaN</td>\n",
       "      <td>2015</td>\n",
       "      <td>4.0</td>\n",
       "      <td>Stage 2</td>\n",
       "      <td>Medicare/Medicaid</td>\n",
       "      <td>1.0</td>\n",
       "      <td>NaN</td>\n",
       "      <td>919101</td>\n",
       "      <td>1962455832</td>\n",
       "      <td>450052.0</td>\n",
       "    </tr>\n",
       "    <tr>\n",
       "      <th>406582</th>\n",
       "      <td>1314E01ROGBPEAD</td>\n",
       "      <td>Cerner Corporation</td>\n",
       "      <td>CHP-028313</td>\n",
       "      <td>HealtheLife and Powerchart</td>\n",
       "      <td>2015.01.08</td>\n",
       "      <td>Modular EHR</td>\n",
       "      <td>Inpatient</td>\n",
       "      <td>2014</td>\n",
       "      <td>2</td>\n",
       "      <td>2016</td>\n",
       "      <td>...</td>\n",
       "      <td>NaN</td>\n",
       "      <td>2015</td>\n",
       "      <td>4.0</td>\n",
       "      <td>Stage 2</td>\n",
       "      <td>Medicare/Medicaid</td>\n",
       "      <td>1.0</td>\n",
       "      <td>NaN</td>\n",
       "      <td>919101</td>\n",
       "      <td>1962455832</td>\n",
       "      <td>450052.0</td>\n",
       "    </tr>\n",
       "  </tbody>\n",
       "</table>\n",
       "<p>31 rows × 22 columns</p>\n",
       "</div>"
      ],
      "text/plain": [
       "       EHR.Certification.Number         Vendor.Name EHR.Product.CHP.Id  \\\n",
       "406552          1314E01RMR9BEAD  Cerner Corporation         CHP-019313   \n",
       "406553          1314E01RMR9BEAD  Cerner Corporation         CHP-025188   \n",
       "406554          1314E01RMR9BEAD  Cerner Corporation         CHP-025192   \n",
       "406555          1314E01RMR9BEAD  Cerner Corporation         CHP-025193   \n",
       "406556          1314E01RMR9BEAD  Cerner Corporation         CHP-025470   \n",
       "406557          1314E01RMR9BEAD  Cerner Corporation         CHP-028305   \n",
       "406558          1314E01RMR9BEAD  Cerner Corporation         CHP-028310   \n",
       "406559          1314E01RMR9BEAD  Cerner Corporation         CHP-028318   \n",
       "406560          1314E01RMR9BEAD  Cerner Corporation         CHP-028328   \n",
       "406561          1314E01RMR9BEAD  Cerner Corporation         CHP-028429   \n",
       "406562          1314E01RMR9BEAD  Cerner Corporation         CHP-028433   \n",
       "406563          1314E01RMR9BEAD  Cerner Corporation         CHP-028977   \n",
       "406564          1314E01ROGBPEAD  Cerner Corporation         CHP-019313   \n",
       "406565          1314E01ROGBPEAD  Cerner Corporation         CHP-025187   \n",
       "406566          1314E01ROGBPEAD  Cerner Corporation         CHP-025188   \n",
       "406567          1314E01ROGBPEAD  Cerner Corporation         CHP-025192   \n",
       "406568          1314E01ROGBPEAD  Cerner Corporation         CHP-025193   \n",
       "406569          1314E01ROGBPEAD  Cerner Corporation         CHP-025200   \n",
       "406570          1314E01ROGBPEAD  Cerner Corporation         CHP-025272   \n",
       "406571          1314E01ROGBPEAD  Cerner Corporation         CHP-025278   \n",
       "406572          1314E01ROGBPEAD  Cerner Corporation         CHP-025283   \n",
       "406573          1314E01ROGBPEAD  Cerner Corporation         CHP-025287   \n",
       "406574          1314E01ROGBPEAD  Cerner Corporation         CHP-025295   \n",
       "406575          1314E01ROGBPEAD  Cerner Corporation         CHP-025298   \n",
       "406576          1314E01ROGBPEAD  Cerner Corporation         CHP-025371   \n",
       "406577          1314E01ROGBPEAD  Cerner Corporation         CHP-025470   \n",
       "406578          1314E01ROGBPEAD  Cerner Corporation         CHP-027115   \n",
       "406579          1314E01ROGBPEAD  Cerner Corporation         CHP-027267   \n",
       "406580          1314E01ROGBPEAD  Cerner Corporation         CHP-028013   \n",
       "406581          1314E01ROGBPEAD  Cerner Corporation         CHP-028308   \n",
       "406582          1314E01ROGBPEAD  Cerner Corporation         CHP-028313   \n",
       "\n",
       "                        EHR.Product.Name EHR.Product.Version  \\\n",
       "406552  P2 Sentinel (Powered by Sensage)                   5   \n",
       "406553             Powerchart (Clinical)          2015.01.01   \n",
       "406554                  Powerchart (eRX)          2015.01.01   \n",
       "406555            Powerchart (All CQM's)          2015.01.01   \n",
       "406556                           PathNet          2015.01.03   \n",
       "406557            Powerchart (All CQM's)          2015.01.08   \n",
       "406558                      HealthSentry             2015.08   \n",
       "406559             Powerchart (Clinical)          2015.01.08   \n",
       "406560                  Powerchart (eRX)          2015.01.08   \n",
       "406561                      HealthSentry             2015.09   \n",
       "406562                      HealthSentry              2015.1   \n",
       "406563                      HealthSentry             2015.11   \n",
       "406564  P2 Sentinel (Powered by Sensage)                   5   \n",
       "406565        HealtheLife and Powerchart          2015.01.01   \n",
       "406566             Powerchart (Clinical)          2015.01.01   \n",
       "406567                  Powerchart (eRX)          2015.01.01   \n",
       "406568            Powerchart (All CQM's)          2015.01.01   \n",
       "406569          HealtheLife and FirstNet          2015.01.01   \n",
       "406570            Powerchart (All CQM's)          2012.01.37   \n",
       "406571                  Powerchart (eRX)          2012.01.37   \n",
       "406572                      HealthSentry             2015.01   \n",
       "406573             Powerchart (Clinical)          2012.01.37   \n",
       "406574        HealtheLife and Powerchart          2012.01.37   \n",
       "406575          HealtheLife and FirstNet          2012.01.37   \n",
       "406576                      HealthSentry             2015.02   \n",
       "406577                           PathNet          2015.01.03   \n",
       "406578                      HealthSentry             2015.03   \n",
       "406579                      HealthSentry             2015.04   \n",
       "406580          HealtheLife and FirstNet          2015.01.06   \n",
       "406581          HealtheLife and FirstNet          2015.01.08   \n",
       "406582        HealtheLife and Powerchart          2015.01.08   \n",
       "\n",
       "       Product.Classification Product.Setting  \\\n",
       "406552            Modular EHR       Inpatient   \n",
       "406553            Modular EHR       Inpatient   \n",
       "406554            Modular EHR       Inpatient   \n",
       "406555            Modular EHR       Inpatient   \n",
       "406556            Modular EHR       Inpatient   \n",
       "406557            Modular EHR       Inpatient   \n",
       "406558            Modular EHR       Inpatient   \n",
       "406559            Modular EHR       Inpatient   \n",
       "406560            Modular EHR       Inpatient   \n",
       "406561            Modular EHR       Inpatient   \n",
       "406562            Modular EHR       Inpatient   \n",
       "406563            Modular EHR       Inpatient   \n",
       "406564            Modular EHR       Inpatient   \n",
       "406565            Modular EHR       Inpatient   \n",
       "406566            Modular EHR       Inpatient   \n",
       "406567            Modular EHR       Inpatient   \n",
       "406568            Modular EHR       Inpatient   \n",
       "406569            Modular EHR       Inpatient   \n",
       "406570            Modular EHR       Inpatient   \n",
       "406571            Modular EHR       Inpatient   \n",
       "406572            Modular EHR       Inpatient   \n",
       "406573            Modular EHR       Inpatient   \n",
       "406574            Modular EHR       Inpatient   \n",
       "406575            Modular EHR       Inpatient   \n",
       "406576            Modular EHR       Inpatient   \n",
       "406577            Modular EHR       Inpatient   \n",
       "406578            Modular EHR       Inpatient   \n",
       "406579            Modular EHR       Inpatient   \n",
       "406580            Modular EHR       Inpatient   \n",
       "406581            Modular EHR       Inpatient   \n",
       "406582            Modular EHR       Inpatient   \n",
       "\n",
       "        Product.Certification.Edition.Yr  Attestation.Month  Attestation.Year  \\\n",
       "406552                              2014                  3              2016   \n",
       "406553                              2014                  3              2016   \n",
       "406554                              2014                  3              2016   \n",
       "406555                              2014                  3              2016   \n",
       "406556                              2014                  3              2016   \n",
       "406557                              2014                  3              2016   \n",
       "406558                              2014                  3              2016   \n",
       "406559                              2014                  3              2016   \n",
       "406560                              2014                  3              2016   \n",
       "406561                              2014                  3              2016   \n",
       "406562                              2014                  3              2016   \n",
       "406563                              2014                  3              2016   \n",
       "406564                              2014                  2              2016   \n",
       "406565                              2014                  2              2016   \n",
       "406566                              2014                  2              2016   \n",
       "406567                              2014                  2              2016   \n",
       "406568                              2014                  2              2016   \n",
       "406569                              2014                  2              2016   \n",
       "406570                              2014                  2              2016   \n",
       "406571                              2014                  2              2016   \n",
       "406572                              2014                  2              2016   \n",
       "406573                              2014                  2              2016   \n",
       "406574                              2014                  2              2016   \n",
       "406575                              2014                  2              2016   \n",
       "406576                              2014                  2              2016   \n",
       "406577                              2014                  2              2016   \n",
       "406578                              2014                  2              2016   \n",
       "406579                              2014                  2              2016   \n",
       "406580                              2014                  2              2016   \n",
       "406581                              2014                  2              2016   \n",
       "406582                              2014                  2              2016   \n",
       "\n",
       "          ...    Specialty Program.Year Payment.Year  Provider.Stage.Number  \\\n",
       "406552    ...          NaN         2015          1.0                Stage 1   \n",
       "406553    ...          NaN         2015          1.0                Stage 1   \n",
       "406554    ...          NaN         2015          1.0                Stage 1   \n",
       "406555    ...          NaN         2015          1.0                Stage 1   \n",
       "406556    ...          NaN         2015          1.0                Stage 1   \n",
       "406557    ...          NaN         2015          1.0                Stage 1   \n",
       "406558    ...          NaN         2015          1.0                Stage 1   \n",
       "406559    ...          NaN         2015          1.0                Stage 1   \n",
       "406560    ...          NaN         2015          1.0                Stage 1   \n",
       "406561    ...          NaN         2015          1.0                Stage 1   \n",
       "406562    ...          NaN         2015          1.0                Stage 1   \n",
       "406563    ...          NaN         2015          1.0                Stage 1   \n",
       "406564    ...          NaN         2015          4.0                Stage 2   \n",
       "406565    ...          NaN         2015          4.0                Stage 2   \n",
       "406566    ...          NaN         2015          4.0                Stage 2   \n",
       "406567    ...          NaN         2015          4.0                Stage 2   \n",
       "406568    ...          NaN         2015          4.0                Stage 2   \n",
       "406569    ...          NaN         2015          4.0                Stage 2   \n",
       "406570    ...          NaN         2015          4.0                Stage 2   \n",
       "406571    ...          NaN         2015          4.0                Stage 2   \n",
       "406572    ...          NaN         2015          4.0                Stage 2   \n",
       "406573    ...          NaN         2015          4.0                Stage 2   \n",
       "406574    ...          NaN         2015          4.0                Stage 2   \n",
       "406575    ...          NaN         2015          4.0                Stage 2   \n",
       "406576    ...          NaN         2015          4.0                Stage 2   \n",
       "406577    ...          NaN         2015          4.0                Stage 2   \n",
       "406578    ...          NaN         2015          4.0                Stage 2   \n",
       "406579    ...          NaN         2015          4.0                Stage 2   \n",
       "406580    ...          NaN         2015          4.0                Stage 2   \n",
       "406581    ...          NaN         2015          4.0                Stage 2   \n",
       "406582    ...          NaN         2015          4.0                Stage 2   \n",
       "\n",
       "             Program.Type Stage.2.Scheduled.2014 MU.Definition.2014  \\\n",
       "406552  Medicare/Medicaid                    1.0                NaN   \n",
       "406553  Medicare/Medicaid                    1.0                NaN   \n",
       "406554  Medicare/Medicaid                    1.0                NaN   \n",
       "406555  Medicare/Medicaid                    1.0                NaN   \n",
       "406556  Medicare/Medicaid                    1.0                NaN   \n",
       "406557  Medicare/Medicaid                    1.0                NaN   \n",
       "406558  Medicare/Medicaid                    1.0                NaN   \n",
       "406559  Medicare/Medicaid                    1.0                NaN   \n",
       "406560  Medicare/Medicaid                    1.0                NaN   \n",
       "406561  Medicare/Medicaid                    1.0                NaN   \n",
       "406562  Medicare/Medicaid                    1.0                NaN   \n",
       "406563  Medicare/Medicaid                    1.0                NaN   \n",
       "406564  Medicare/Medicaid                    1.0                NaN   \n",
       "406565  Medicare/Medicaid                    1.0                NaN   \n",
       "406566  Medicare/Medicaid                    1.0                NaN   \n",
       "406567  Medicare/Medicaid                    1.0                NaN   \n",
       "406568  Medicare/Medicaid                    1.0                NaN   \n",
       "406569  Medicare/Medicaid                    1.0                NaN   \n",
       "406570  Medicare/Medicaid                    1.0                NaN   \n",
       "406571  Medicare/Medicaid                    1.0                NaN   \n",
       "406572  Medicare/Medicaid                    1.0                NaN   \n",
       "406573  Medicare/Medicaid                    1.0                NaN   \n",
       "406574  Medicare/Medicaid                    1.0                NaN   \n",
       "406575  Medicare/Medicaid                    1.0                NaN   \n",
       "406576  Medicare/Medicaid                    1.0                NaN   \n",
       "406577  Medicare/Medicaid                    1.0                NaN   \n",
       "406578  Medicare/Medicaid                    1.0                NaN   \n",
       "406579  Medicare/Medicaid                    1.0                NaN   \n",
       "406580  Medicare/Medicaid                    1.0                NaN   \n",
       "406581  Medicare/Medicaid                    1.0                NaN   \n",
       "406582  Medicare/Medicaid                    1.0                NaN   \n",
       "\n",
       "        Attestation_ID         NPI       CCN  \n",
       "406552          919100  1962455832  450052.0  \n",
       "406553          919100  1962455832  450052.0  \n",
       "406554          919100  1962455832  450052.0  \n",
       "406555          919100  1962455832  450052.0  \n",
       "406556          919100  1962455832  450052.0  \n",
       "406557          919100  1962455832  450052.0  \n",
       "406558          919100  1962455832  450052.0  \n",
       "406559          919100  1962455832  450052.0  \n",
       "406560          919100  1962455832  450052.0  \n",
       "406561          919100  1962455832  450052.0  \n",
       "406562          919100  1962455832  450052.0  \n",
       "406563          919100  1962455832  450052.0  \n",
       "406564          919101  1962455832  450052.0  \n",
       "406565          919101  1962455832  450052.0  \n",
       "406566          919101  1962455832  450052.0  \n",
       "406567          919101  1962455832  450052.0  \n",
       "406568          919101  1962455832  450052.0  \n",
       "406569          919101  1962455832  450052.0  \n",
       "406570          919101  1962455832  450052.0  \n",
       "406571          919101  1962455832  450052.0  \n",
       "406572          919101  1962455832  450052.0  \n",
       "406573          919101  1962455832  450052.0  \n",
       "406574          919101  1962455832  450052.0  \n",
       "406575          919101  1962455832  450052.0  \n",
       "406576          919101  1962455832  450052.0  \n",
       "406577          919101  1962455832  450052.0  \n",
       "406578          919101  1962455832  450052.0  \n",
       "406579          919101  1962455832  450052.0  \n",
       "406580          919101  1962455832  450052.0  \n",
       "406581          919101  1962455832  450052.0  \n",
       "406582          919101  1962455832  450052.0  \n",
       "\n",
       "[31 rows x 22 columns]"
      ]
     },
     "execution_count": 219,
     "metadata": {},
     "output_type": "execute_result"
    }
   ],
   "source": [
    "full_df[full_df['NPI']==1962455832]\n",
    "# full_df[full_df['NPI']==1962455832]['Business.State.Territory']"
   ]
  },
  {
   "cell_type": "code",
   "execution_count": 222,
   "metadata": {
    "collapsed": false
   },
   "outputs": [
    {
     "data": {
      "text/plain": [
       "Vendor.Name\n",
       "ACL Laboratories                              1\n",
       "OEMR                                          1\n",
       "OD Link                                       1\n",
       "OCERIS Inc                                    1\n",
       "OA Systems Inc                                1\n",
       "Nuesoft Technologies Inc                      1\n",
       "Nuance Communications Inc                     1\n",
       "Nth Technologies Inc                          1\n",
       "Novobi                                        1\n",
       "Nortec Software Inc                           1\n",
       "NoMoreClipboard LLC                           1\n",
       "Nexus Clinical LLC                            1\n",
       "NextServices Inc                              1\n",
       "Nexsyis Inc                                   1\n",
       "NexSched                                      1\n",
       "NewYork-Presbyterian Hospital                 1\n",
       "Networking Technology dba RxNT                1\n",
       "NeoDeck Software                              1\n",
       "NavisHealth Solutions Inc                     1\n",
       "Navigating Cancer Inc                         1\n",
       "NTT DATA Inc                                  1\n",
       "NCG Medical Systems Inc                       1\n",
       "MyChartsOnline, Inc.                          1\n",
       "Mirth Corporation                             1\n",
       "OSEHRA                                        1\n",
       "OT EMR Inc                                    1\n",
       "Objective Medical Systems LLC                 1\n",
       "Office Ally                                   1\n",
       "Phunkey Inc                                   1\n",
       "Phoenix Ortho LLC                             1\n",
       "                                             ..\n",
       "Forerun Inc                                   3\n",
       "eClinicalWorks LLC                            3\n",
       "Medisolv Inc                                  3\n",
       "e-MDs                                         3\n",
       "Alere Analytics                               3\n",
       "Henry Schein Medical Systems                  3\n",
       "Partners Healthcare System                    3\n",
       "Aprima Medical Software Inc                   3\n",
       "Healthland Inc                                3\n",
       "CompuGroup Medical                            3\n",
       "OptumInsight                                  3\n",
       "The Shams Group                               4\n",
       "Orion Health                                  4\n",
       "MacPractice Inc                               4\n",
       "gMed Inc                                      4\n",
       "Merge Healthcare                              4\n",
       "HCA Information & Technology Services Inc     4\n",
       "BJC Healthcare                                5\n",
       "NextGen Healthcare                            5\n",
       "Epic Systems Corporation                      6\n",
       "Northwestern University                       6\n",
       "Greenway Health LLC                           6\n",
       "Eyefinity/OfficeMate                          6\n",
       "GE Healthcare                                11\n",
       "Allscripts                                   12\n",
       "MEDHOST                                      13\n",
       "Iatric Systems Inc                           14\n",
       "McKesson                                     22\n",
       "Cerner Corporation                           45\n",
       "MEDITECH                                     86\n",
       "Name: EHR.Product.Name, dtype: int64"
      ]
     },
     "execution_count": 222,
     "metadata": {},
     "output_type": "execute_result"
    }
   ],
   "source": [
    "full_df.groupby('Vendor.Name')['EHR.Product.Name'].nunique().sort_values()"
   ]
  },
  {
   "cell_type": "code",
   "execution_count": 223,
   "metadata": {
    "collapsed": true
   },
   "outputs": [],
   "source": [
    "test = full_df.groupby(['Business.State.Territory', 'Vendor.Name'])"
   ]
  },
  {
   "cell_type": "code",
   "execution_count": null,
   "metadata": {
    "collapsed": true
   },
   "outputs": [],
   "source": []
  }
 ],
 "metadata": {
  "kernelspec": {
   "display_name": "Python 3",
   "language": "python",
   "name": "python3"
  },
  "language_info": {
   "codemirror_mode": {
    "name": "ipython",
    "version": 3
   },
   "file_extension": ".py",
   "mimetype": "text/x-python",
   "name": "python",
   "nbconvert_exporter": "python",
   "pygments_lexer": "ipython3",
   "version": "3.5.2"
  }
 },
 "nbformat": 4,
 "nbformat_minor": 0
}
